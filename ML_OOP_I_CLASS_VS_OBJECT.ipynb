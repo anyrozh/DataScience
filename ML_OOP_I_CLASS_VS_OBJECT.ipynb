{
  "nbformat": 4,
  "nbformat_minor": 0,
  "metadata": {
    "colab": {
      "provenance": []
    },
    "kernelspec": {
      "name": "python3",
      "display_name": "Python 3"
    },
    "language_info": {
      "name": "python"
    }
  },
  "cells": [
    {
      "cell_type": "markdown",
      "source": [
        "**Атрибуты и Методы**\n"
      ],
      "metadata": {
        "id": "QHdYNyu6RwrP"
      }
    },
    {
      "cell_type": "markdown",
      "source": [
        "**Атрибуты** - это **характеристики или свойства**, которые определяют объект, в то время как **методы** - это **функции, представляющие поведение или действия объекта.**\n",
        "\n",
        "\n",
        "*   атрибутами могут быть: массив weights_ (хранит веса модели) и max_iterations (определяет максимальное количество итераций в процессе обучения модели).\n",
        "*   Методы класса - это функции внутри класса, которые могут получить доступ к атрибутам класса и изменить их.\n",
        "\n",
        "**Ключевое слово 'Self'**\n",
        "\n",
        "Когда вы определяете методы внутри классов в Python, вы заметите, что self всегда является первым параметром. Это связано с тем, что **self представляет экземпляр класса. С помощью self мы можем получить доступ к атрибутам и методам класса в Python. Это упрощает отслеживание атрибутов и методов экземпляра.**\n",
        "\n",
        "\n",
        "\n",
        "*   **Публичные методы** - это методы, которые предназначены для общедоступного использования, т.е. для доступа извне класса. В классе LinearRegressor метод fit - это пример публичного метода. Такие методы хорошо документированы и предназначены для использования \"снаружи класса\".\n",
        "*   **Внутренние (защищенные) методы** предназначены для использования внутри класса. Это часть внутренний логики. Их принято начинать с префикса \"_\".\n",
        "\n",
        "\n",
        "\n",
        "\n",
        "\n"
      ],
      "metadata": {
        "id": "RR9dRSjvRnW5"
      }
    },
    {
      "cell_type": "code",
      "source": [
        "class DataProcessor:\n",
        "    def __init__(self, data):\n",
        "        self.data = data\n",
        "        self.processed_data_ = None\n",
        "\n",
        "    def process(self):\n",
        "        if not self.data:\n",
        "            self.processed_data_ = []\n",
        "            return\n",
        "\n",
        "        mean_value = sum(self.data) / len(self.data)\n",
        "        self.processed_data_ = [x - mean_value for x in self.data]\n",
        "\n",
        "    def save_to_file(self, filename):\n",
        "        if self.processed_data_ is None:\n",
        "            return\n",
        "\n",
        "        with open(filename, 'w') as f:\n",
        "            for value in self.processed_data_:\n",
        "                f.write(f\"{value}\\n\")"
      ],
      "metadata": {
        "id": "lLYvhjfqdHWJ"
      },
      "execution_count": 6,
      "outputs": []
    },
    {
      "cell_type": "code",
      "execution_count": 7,
      "metadata": {
        "id": "RAr5kWtYPgzu"
      },
      "outputs": [],
      "source": [
        "processor = DataProcessor(data=[1, 2, 3, 4, 5])\n",
        "processor.process()\n",
        "processor.save_to_file(\"processed_data.txt\")"
      ]
    }
  ]
}