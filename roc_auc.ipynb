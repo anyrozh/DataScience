{
  "nbformat": 4,
  "nbformat_minor": 0,
  "metadata": {
    "colab": {
      "provenance": []
    },
    "kernelspec": {
      "name": "python3",
      "display_name": "Python 3"
    },
    "language_info": {
      "name": "python"
    }
  },
  "cells": [
    {
      "cell_type": "code",
      "execution_count": 7,
      "metadata": {
        "colab": {
          "base_uri": "https://localhost:8080/"
        },
        "id": "As35_7fkb7XD",
        "outputId": "43d21106-6f94-479f-9336-e2802630d4f5"
      },
      "outputs": [
        {
          "output_type": "stream",
          "name": "stderr",
          "text": [
            "<>:19: SyntaxWarning: invalid escape sequence '\\c'\n",
            "<>:19: SyntaxWarning: invalid escape sequence '\\c'\n",
            "/tmp/ipython-input-1298403922.py:19: SyntaxWarning: invalid escape sequence '\\c'\n",
            "  raise ValueError(\"\\conf\\ must be between 0 and 1\")\n"
          ]
        }
      ],
      "source": [
        "from typing import Tuple\n",
        "\n",
        "import numpy as np\n",
        "from sklearn.base import ClassifierMixin\n",
        "from sklearn.metrics import roc_auc_score\n",
        "\n",
        "\n",
        "def roc_auc_ci(\n",
        "    classifier: ClassifierMixin,\n",
        "    X: np.ndarray,\n",
        "    y: np.ndarray,\n",
        "    #conf : уровень доверия (например 0.95 → 95 % ДИ)\n",
        "    conf: float = 0.95,\n",
        "    n_bootstraps: int = 10_000,\n",
        "    seed: int = 42,\n",
        ") -> Tuple[float, float]:\n",
        "    \"\"\"Returns confidence bounds of the ROC-AUC\"\"\"\n",
        "    if not (0.0 < conf < 1.0):\n",
        "      raise ValueError(\"\\conf\\ must be between 0 and 1\")\n",
        "    #y_score содержит предсказанные вероятности для класса 1 --> Вероятность принадлежности к каждому классу\t[0.15, 0.85], [0.9, 0.1]\n",
        "    if hasattr(classifier,\"predict_proba\"):\n",
        "      y_score = classifier.predict_proba(X)[:,1]\n",
        "    ##Этот метод возвращает расстояние от каждого наблюдения до разделяющей гиперплоскости. Чем больше это число (чем дальше объект от границы), тем увереннее модель в своем предсказании.\n",
        "    # -2.5, 0.3, 5.1\n",
        "    if hasattr(classifier,\"decision_function\"):\n",
        "      y_score = classifier.decision_function(X)\n",
        "    else:\n",
        "      y_score = classifier.predict(X)\n",
        "\n",
        "\n",
        "    #rng - задает (Создает генератор случайных чисел с фиксированным seed для обеспечения воспроизводимости результатов)\n",
        "    rng = np.random.default_rng(seed)\n",
        "    n_objects = len(y)\n",
        "\n",
        "    aucs = np.empty(n_bootstraps,dtype = float)\n",
        "    collected = 0\n",
        "\n",
        "    while collected < n_bootstraps:\n",
        "      #создаем новую выборку того же размера, что и исходная, случайно выбирая объекты с повторениями\n",
        "      idx = rng.integers(0,n_objects,size = n_objects)\n",
        "\n",
        "      if len(np.unique(y[idx])) < 2:\n",
        "        continue\n",
        "      aucs[collected] = roc_auc_score(y[idx],y_score[idx])\n",
        "      collected += 1\n",
        "\n",
        "    alpha = 1.0 - conf\n",
        "    lcb = np.quantile(aucs, alpha / 2)\n",
        "    ucb = np.quantile(aucs, 1.0 - alpha / 2)\n",
        "    return (lcb, ucb)"
      ]
    },
    {
      "cell_type": "markdown",
      "source": [
        "С уверенностью в 95% мы можем утверждать, что истинное значение ROC-AUC нашей модели лежит в диапазоне между 0.82 и 0.90"
      ],
      "metadata": {
        "id": "gUcQ_bFPAftV"
      }
    },
    {
      "cell_type": "code",
      "source": [
        "from sklearn.datasets import make_classification\n",
        "from sklearn.linear_model import LogisticRegression\n",
        "from sklearn.metrics import roc_auc_score\n",
        "from sklearn.model_selection import train_test_split\n",
        "import numpy as np\n",
        "\n",
        "X, y = make_classification(\n",
        "    n_samples=3000, n_features=20, n_informative=5,\n",
        "    n_redundant=2, random_state=0\n",
        ")\n",
        "\n",
        "X_train, X_test, y_train, y_test = train_test_split(\n",
        "    X, y, test_size=0.3, random_state=42, stratify=y\n",
        ")\n",
        "clf = LogisticRegression(max_iter=1000, solver=\"lbfgs\")\n",
        "clf.fit(X_train, y_train)\n",
        "\n",
        "y_score = clf.predict_proba(X_test)[:, 1]\n",
        "auc = roc_auc_score(y_test, y_score)\n",
        "print(f\"ROC-AUC = {auc:.3f}\")\n",
        "\n",
        "lcb, ucb = roc_auc_ci(clf, X_test, y_test, conf=0.95, n_bootstraps=2000)\n",
        "print(f\"95 % CI for ROC-AUC: [{lcb:.3f}, {ucb:.3f}]\")"
      ],
      "metadata": {
        "colab": {
          "base_uri": "https://localhost:8080/"
        },
        "id": "D8G8U8tgAg78",
        "outputId": "a263634b-cc4f-4b60-ddb8-014b18373e58"
      },
      "execution_count": 8,
      "outputs": [
        {
          "output_type": "stream",
          "name": "stdout",
          "text": [
            "ROC-AUC = 0.936\n",
            "95 % CI for ROC-AUC: [0.920, 0.952]\n"
          ]
        }
      ]
    },
    {
      "cell_type": "markdown",
      "source": [
        "**ROC-AUC сообщает, насколько хорошо классы разделимы между собой обученной моделью.** Однако нет гарантии, что полученные вероятности хорошо откалиброваны, **ведь ROC-AUC обращает внимание только на ранги вероятностей, а не их реальные значения, тем более их распределение.**"
      ],
      "metadata": {
        "id": "i1Pwb3G5DKT0"
      }
    },
    {
      "cell_type": "code",
      "source": [
        "from typing import Tuple\n",
        "\n",
        "import numpy as np\n",
        "\n",
        "\n",
        "def pr_threshold(\n",
        "    y_true: np.ndarray,\n",
        "    y_prob: np.ndarray,\n",
        "    min_precision: float,\n",
        ") -> Tuple[float, float]:\n",
        "    \"\"\"Returns threshold and recall (from Precision-Recall Curve)\"\"\"\n",
        "    # Получаем все уникальные пороги, отсортированные по убыванию (как y_prob)\n",
        "    thresholds = np.unique(y_prob)[::-1]\n",
        "    # Добавляем крайние значения для полного покрытия\n",
        "    thresholds = np.append(thresholds, 0.0)\n",
        "    thresholds = np.insert(thresholds, 0, 1.0)\n",
        "\n",
        "    best_recall = -1.0\n",
        "    best_threshold = 1.0  # Начинаем с самого строгого порога\n",
        "\n",
        "    for thresh in thresholds:\n",
        "        y_pred = (y_prob >= thresh).astype(int)\n",
        "        # Вычисляем TP, FP, FN для вычисления Precision и Recall\n",
        "        tp = np.sum((y_pred == 1) & (y_true == 1))\n",
        "        fp = np.sum((y_pred == 1) & (y_true == 0))\n",
        "        fn = np.sum((y_pred == 0) & (y_true == 1))\n",
        "\n",
        "        # Избегаем деления на ноль\n",
        "        precision = tp / (tp + fp) if (tp + fp) > 0 else 0.0\n",
        "        recall = tp / (tp + fn) if (tp + fn) > 0 else 0.0\n",
        "\n",
        "        # Проверяем условие: Precision >= min_precision\n",
        "        if precision >= min_precision:\n",
        "            # Если нашли порог с бОльшим Recall или тот же Recall, но с бОльшим порогом\n",
        "            if recall > best_recall or (np.isclose(recall, best_recall) and thresh > best_threshold):\n",
        "                best_recall = recall\n",
        "                best_threshold = thresh\n",
        "\n",
        "    return best_threshold, best_recall\n",
        "\n",
        "def sr_threshold(\n",
        "    y_true: np.ndarray,\n",
        "    y_prob: np.ndarray,\n",
        "    min_specificity: float,\n",
        ") -> Tuple[float, float]:\n",
        "    \"\"\"Returns threshold and recall (from Specificity-Recall Curve)\"\"\"\n",
        "    thresholds = np.unique(y_prob)[::-1]\n",
        "    thresholds = np.append(thresholds, 0.0)\n",
        "    thresholds = np.insert(thresholds, 0, 1.0)\n",
        "\n",
        "    best_recall = -1.0\n",
        "    best_threshold = 1.0\n",
        "\n",
        "    for thresh in thresholds:\n",
        "        y_pred = (y_prob >= thresh).astype(int)\n",
        "        tp = np.sum((y_pred == 1) & (y_true == 1))\n",
        "        fn = np.sum((y_pred == 0) & (y_true == 1))\n",
        "        tn = np.sum((y_pred == 0) & (y_true == 0))\n",
        "        fp = np.sum((y_pred == 1) & (y_true == 0))\n",
        "\n",
        "        specificity = tn / (tn + fp) if (tn + fp) > 0 else 0.0\n",
        "        recall = tp / (tp + fn) if (tp + fn) > 0 else 0.0\n",
        "\n",
        "        if specificity >= min_specificity:\n",
        "            if recall > best_recall or (np.isclose(recall, best_recall) and thresh > best_threshold):\n",
        "                best_recall = recall\n",
        "                best_threshold = thresh\n",
        "\n",
        "    return best_threshold, best_recall\n",
        "\n",
        "def pr_curve(\n",
        "    y_true: np.ndarray,\n",
        "    y_prob: np.ndarray,\n",
        "    conf: float = 0.95,\n",
        "    n_bootstrap: int = 10_000,\n",
        ") -> Tuple[np.ndarray, np.ndarray, np.ndarray, np.ndarray]:\n",
        "    \"\"\"Returns Precision-Recall curve and it's (LCB, UCB)\"\"\"\n",
        "    thresholds = np.unique(y_prob)[::-1]\n",
        "    thresholds = np.append(thresholds, 0.0)\n",
        "    thresholds = np.insert(thresholds, 0, 1.0 + 1e-10)  # Порог выше максимума\n",
        "\n",
        "    n_points = len(thresholds)\n",
        "    recall = np.zeros(n_points)\n",
        "    precision = np.zeros(n_points)\n",
        "    for i, thresh in enumerate(thresholds):\n",
        "        y_pred = (y_prob >= thresh).astype(int)\n",
        "        tp = np.sum((y_pred == 1) & (y_true == 1))\n",
        "        fp = np.sum((y_pred == 1) & (y_true == 0))\n",
        "        fn = np.sum((y_pred == 0) & (y_true == 1))\n",
        "\n",
        "        precision[i] = tp / (tp + fp) if (tp + fp) > 0 else 0.0\n",
        "        recall[i] = tp / (tp + fn) if (tp + fn) > 0 else 0.0\n",
        "\n",
        "    rng = np.random.default_rng(42)\n",
        "    n_objects = len(y_true)\n",
        "    bootstrap_precisions = np.zeros((n_bootstrap, n_points))\n",
        "\n",
        "    collected = 0\n",
        "    while collected < n_bootstrap:\n",
        "        idx = rng.integers(0, n_objects, size=n_objects)\n",
        "        y_true_bs = y_true[idx]\n",
        "        y_prob_bs = y_prob[idx]\n",
        "\n",
        "        if len(np.unique(y_true_bs)) < 2:\n",
        "            continue\n",
        "        for j, thresh in enumerate(thresholds):\n",
        "            y_pred_bs = (y_prob_bs >= thresh).astype(int)\n",
        "            tp_bs = np.sum((y_pred_bs == 1) & (y_true_bs == 1))\n",
        "            fp_bs = np.sum((y_pred_bs == 1) & (y_true_bs == 0))\n",
        "            precision_bs = tp_bs / (tp_bs + fp_bs) if (tp_bs + fp_bs) > 0 else 0.0\n",
        "            bootstrap_precisions[collected, j] = precision_bs\n",
        "\n",
        "        collected += 1\n",
        "    alpha = 1.0 - conf\n",
        "    precision_lcb = np.quantile(bootstrap_precisions, alpha / 2, axis=0)\n",
        "    precision_ucb = np.quantile(bootstrap_precisions, 1.0 - alpha / 2, axis=0)\n",
        "\n",
        "    return recall, precision, precision_lcb, precision_ucb\n",
        "\n",
        "def sr_curve(\n",
        "    y_true: np.ndarray,\n",
        "    y_prob: np.ndarray,\n",
        "    conf: float = 0.95,\n",
        "    n_bootstrap: int = 10_000,\n",
        ") -> Tuple[np.ndarray, np.ndarray, np.ndarray, np.ndarray]:\n",
        "    \"\"\"Returns Specificity-Recall curve and it's (LCB, UCB)\"\"\"\n",
        "    # 1. Строим исходную кривую\n",
        "    thresholds = np.unique(y_prob)[::-1]\n",
        "    thresholds = np.append(thresholds, 0.0)\n",
        "    thresholds = np.insert(thresholds, 0, 1.0 + 1e-10)\n",
        "\n",
        "    n_points = len(thresholds)\n",
        "    recall = np.zeros(n_points)\n",
        "    specificity = np.zeros(n_points)\n",
        "\n",
        "    for i, thresh in enumerate(thresholds):\n",
        "        y_pred = (y_prob >= thresh).astype(int)\n",
        "        tp = np.sum((y_pred == 1) & (y_true == 1))\n",
        "        fn = np.sum((y_pred == 0) & (y_true == 1))\n",
        "        tn = np.sum((y_pred == 0) & (y_true == 0))\n",
        "        fp = np.sum((y_pred == 1) & (y_true == 0))\n",
        "\n",
        "        recall[i] = tp / (tp + fn) if (tp + fn) > 0 else 0.0\n",
        "        specificity[i] = tn / (tn + fp) if (tn + fp) > 0 else 0.0\n",
        "\n",
        "    rng = np.random.default_rng(42)\n",
        "    n_objects = len(y_true)\n",
        "    bootstrap_specificities = np.zeros((n_bootstrap, n_points))\n",
        "\n",
        "    collected = 0\n",
        "    while collected < n_bootstrap:\n",
        "        idx = rng.integers(0, n_objects, size=n_objects)\n",
        "        y_true_bs = y_true[idx]\n",
        "        y_prob_bs = y_prob[idx]\n",
        "\n",
        "        if len(np.unique(y_true_bs)) < 2:\n",
        "            continue\n",
        "\n",
        "        for j, thresh in enumerate(thresholds):\n",
        "            y_pred_bs = (y_prob_bs >= thresh).astype(int)\n",
        "            tn_bs = np.sum((y_pred_bs == 0) & (y_true_bs == 0))\n",
        "            fp_bs = np.sum((y_pred_bs == 1) & (y_true_bs == 0))\n",
        "            specificity_bs = tn_bs / (tn_bs + fp_bs) if (tn_bs + fp_bs) > 0 else 0.0\n",
        "            bootstrap_specificities[collected, j] = specificity_bs\n",
        "\n",
        "        collected += 1\n",
        "    alpha = 1.0 - conf\n",
        "    specificity_lcb = np.quantile(bootstrap_specificities, alpha / 2, axis=0)\n",
        "    specificity_ucb = np.quantile(bootstrap_specificities, 1.0 - alpha / 2, axis=0)\n",
        "\n",
        "    return recall, specificity, specificity_lcb, specificity_ucb"
      ],
      "metadata": {
        "id": "sZNNRj-woKUa"
      },
      "execution_count": 2,
      "outputs": []
    },
    {
      "cell_type": "code",
      "source": [],
      "metadata": {
        "id": "tCjlOmj6uGIu"
      },
      "execution_count": null,
      "outputs": []
    },
    {
      "cell_type": "code",
      "source": [
        "from typing import Tuple\n",
        "\n",
        "import numpy as np\n",
        "\n",
        "def _basic_curves(\n",
        "    y_true: np.ndarray,\n",
        "    y_prob: np.ndarray,\n",
        ") -> Tuple[np.ndarray, np.ndarray, np.ndarray]:\n",
        "    \"\"\"\n",
        "    Builds  (recall, precision, specificity) arrays of length N + 1\n",
        "    Assumes y_prob is already sorted in DESCENDING order\n",
        "    \"\"\"\n",
        "    if y_true.ndim != 1 or y_prob.ndim != 1:\n",
        "        raise ValueError(\"y_true and y_prob must be 1-D arrays\")\n",
        "    if len(y_true) != len(y_prob):\n",
        "        raise ValueError(\"y_true and y_prob must be of equal length\")\n",
        "\n",
        "    y_true = y_true.astype(int)\n",
        "    n_objects = len(y_true)\n",
        "    n_pos = y_true.sum()\n",
        "    n_neg = n_objects - n_pos\n",
        "    if n_pos == 0 or n_neg == 0:\n",
        "        raise ValueError(\"Both positive and negative objects must be present\")\n",
        "\n",
        "    tp_cum = np.cumsum(y_true)                   # length N\n",
        "    fp_cum = np.arange(1, n_objects + 1) - tp_cum\n",
        "\n",
        "    # allocate result (N + 1)\n",
        "    recall = np.empty(n_objects + 1, dtype=float)\n",
        "    precision = np.empty_like(recall)\n",
        "    specificity = np.empty_like(recall)\n",
        "\n",
        "    # threshold that predicts NOTHING positive\n",
        "    recall[0] = 0.0\n",
        "    precision[0] = 1.0           # by convention\n",
        "    specificity[0] = 1.0\n",
        "\n",
        "    # thresholds after we mark first k objects positive\n",
        "    idx = np.arange(1, n_objects + 1)\n",
        "    recall[idx] = tp_cum / n_pos\n",
        "    precision[idx] = tp_cum / idx\n",
        "    specificity[idx] = (n_neg - fp_cum) / n_neg\n",
        "\n",
        "    return recall, precision, specificity\n",
        "\n",
        "\n",
        "def _step_interpolate(x_grid: np.ndarray, x: np.ndarray, y: np.ndarray) -> np.ndarray:\n",
        "    \"\"\"\n",
        "    Step-wise (left-constant) interpolation:\n",
        "    takes y corresponding to the last x <= x_grid[i]\n",
        "    Assumes x is sorted ASCENDING and starts with 0.\n",
        "    \"\"\"\n",
        "    idx = np.searchsorted(x, x_grid, side=\"right\") - 1\n",
        "    idx[idx < 0] = 0                # for possible round-off at 0\n",
        "    return y[idx]\n",
        "\n",
        "\n",
        "def _bootstrap_bounds(\n",
        "    y_true: np.ndarray,\n",
        "    y_prob: np.ndarray,\n",
        "    recall_grid: np.ndarray,\n",
        "    conf: float,\n",
        "    n_bootstrap: int,\n",
        "    metric: str = \"precision\",      # or \"specificity\"\n",
        "    seed: int = 42,\n",
        ") -> Tuple[np.ndarray, np.ndarray]:\n",
        "    \"\"\"\n",
        "    Builds bootstrap LCB / UCB for metric(recall)\n",
        "    metric : either \"precision\" or \"specificity\"\n",
        "    \"\"\"\n",
        "    rng = np.random.default_rng(seed)\n",
        "    alpha = 1.0 - conf\n",
        "    collected = 0\n",
        "    boot_values = np.empty((n_bootstrap, len(recall_grid)), dtype=float)\n",
        "\n",
        "    while collected < n_bootstrap:\n",
        "        idx = rng.integers(0, len(y_true), size=len(y_true))\n",
        "        y_t = y_true[idx]\n",
        "        y_p = y_prob[idx]\n",
        "\n",
        "        # need y_p sorted descending\n",
        "        order = np.argsort(-y_p)\n",
        "        y_t = y_t[order]\n",
        "        y_p = y_p[order]\n",
        "\n",
        "        # skip degenerate bootstrap that has ≤1 class\n",
        "        if y_t.sum() == 0 or y_t.sum() == len(y_t):\n",
        "            continue\n",
        "\n",
        "        rec_b, prec_b, spec_b = _basic_curves(y_t, y_p)\n",
        "        y_b = prec_b if metric == \"precision\" else spec_b\n",
        "        # put on the grid\n",
        "        boot_values[collected] = _step_interpolate(recall_grid, rec_b, y_b)\n",
        "        collected += 1\n",
        "\n",
        "    lcb = np.quantile(boot_values, alpha / 2, axis=0)\n",
        "    ucb = np.quantile(boot_values, 1.0 - alpha / 2, axis=0)\n",
        "    return lcb, ucb\n",
        "\n",
        "def pr_threshold(\n",
        "    y_true: np.ndarray,\n",
        "    y_prob: np.ndarray,\n",
        "    min_precision: float,\n",
        ") -> Tuple[float, float]:\n",
        "    \"\"\"\n",
        "    Finds a probability threshold that gives the MAXIMUM recall while\n",
        "    keeping precision ≥ min_precision.\n",
        "    If several thresholds give the same recall,   takes the HIGHEST\n",
        "    probability threshold (i.e. the earliest in sorted order).\n",
        "    Returns (threshold_probability, recall_at_threshold)\n",
        "    \"\"\"\n",
        "    recall, precision, _ = _basic_curves(y_true, y_prob)\n",
        "    candidates = np.where(precision[1:] >= min_precision)[0] + 1\n",
        "    if len(candidates) == 0:\n",
        "        return np.nan, 0.0\n",
        "\n",
        "    best_recall = recall[candidates].max()\n",
        "    best_idxs = candidates[recall[candidates] == best_recall]\n",
        "\n",
        "    best_idx = best_idxs.min()\n",
        "    threshold_proba = y_prob[best_idx - 1]\n",
        "    return float(threshold_proba), float(best_recall)\n",
        "\n",
        "\n",
        "def sr_threshold(\n",
        "    y_true: np.ndarray,\n",
        "    y_prob: np.ndarray,\n",
        "    min_specificity: float,\n",
        ") -> Tuple[float, float]:\n",
        "    \"\"\"\n",
        "    Same as pr_threshold, but works on Specificity-Recall curve\n",
        "    (x-axis: recall / sensitivity, y-axis: specificity).\n",
        "    \"\"\"\n",
        "    recall, _, specificity = _basic_curves(y_true, y_prob)\n",
        "    candidates = np.where(specificity[1:] >= min_specificity)[0] + 1\n",
        "    if len(candidates) == 0:\n",
        "        return np.nan, 0.0\n",
        "\n",
        "    best_recall = recall[candidates].max()\n",
        "    best_idxs = candidates[recall[candidates] == best_recall]\n",
        "    best_idx = best_idxs.min()\n",
        "    threshold_proba = y_prob[best_idx - 1]\n",
        "    return float(threshold_proba), float(best_recall)\n",
        "\n",
        "\n",
        "def pr_curve(\n",
        "    y_true: np.ndarray,\n",
        "    y_prob: np.ndarray,\n",
        "    conf: float = 0.95,\n",
        "    n_bootstrap: int = 10_000,\n",
        ") -> Tuple[np.ndarray, np.ndarray, np.ndarray, np.ndarray]:\n",
        "    \"\"\"\n",
        "    Returns\n",
        "        recall            – (N + 1,)\n",
        "        precision         – (N + 1,)\n",
        "        precision_lcb     – (N + 1,)\n",
        "        precision_ucb     – (N + 1,)\n",
        "    All share the same recall axis.\n",
        "    \"\"\"\n",
        "    recall, precision, _ = _basic_curves(y_true, y_prob)\n",
        "    lcb, ucb = _bootstrap_bounds(\n",
        "        y_true, y_prob, recall, conf, n_bootstrap, metric=\"precision\"\n",
        "    )\n",
        "    return recall, precision, lcb, ucb\n",
        "\n",
        "\n",
        "def sr_curve(\n",
        "    y_true: np.ndarray,\n",
        "    y_prob: np.ndarray,\n",
        "    conf: float = 0.95,\n",
        "    n_bootstrap: int = 10_000,\n",
        ") -> Tuple[np.ndarray, np.ndarray, np.ndarray, np.ndarray]:\n",
        "    \"\"\"\n",
        "    Returns\n",
        "        recall            – (N + 1,)\n",
        "        specificity       – (N + 1,)\n",
        "        specificity_lcb   – (N + 1,)\n",
        "        specificity_ucb   – (N + 1,)\n",
        "    \"\"\"\n",
        "    recall, _, specificity = _basic_curves(y_true, y_prob)\n",
        "    lcb, ucb = _bootstrap_bounds(\n",
        "        y_true, y_prob, recall, conf, n_bootstrap, metric=\"specificity\"\n",
        "    )\n",
        "    return recall, specificity, lcb, ucb"
      ],
      "metadata": {
        "id": "d22_94UwtMi1"
      },
      "execution_count": 8,
      "outputs": []
    },
    {
      "cell_type": "code",
      "source": [
        "import numpy as np\n",
        "from sklearn.datasets import make_classification\n",
        "from sklearn.model_selection import train_test_split\n",
        "from sklearn.ensemble import RandomForestClassifier\n",
        "\n",
        "\n",
        "X, y = make_classification(\n",
        "    n_samples=1000,\n",
        "    n_features=20,\n",
        "    n_informative=15,\n",
        "    n_redundant=5,\n",
        "    weights=[0.8, 0.2],\n",
        "    random_state=42\n",
        ")\n",
        "\n",
        "X_train, X_test, y_train, y_test = train_test_split(X, y, test_size=0.3, random_state=42)\n",
        "\n",
        "model = RandomForestClassifier(random_state=42)\n",
        "model.fit(X_train, y_train)\n",
        "\n",
        "y_prob = model.predict_proba(X_test)[:, 1]\n",
        "\n",
        "sort_idx = np.argsort(y_prob)[::-1]\n",
        "y_prob_sorted = y_prob[sort_idx]\n",
        "y_test_sorted = y_test[sort_idx]\n",
        "\n",
        "print(f\"Размер тестовой выборки: {len(y_test_sorted)}\")\n",
        "print(f\"Баланс классов: {np.bincount(y_test_sorted)}\")"
      ],
      "metadata": {
        "colab": {
          "base_uri": "https://localhost:8080/"
        },
        "id": "OgMr_Aavpr5J",
        "outputId": "80233ee4-c6f5-4eb2-b030-5669236bc99e"
      },
      "execution_count": 9,
      "outputs": [
        {
          "output_type": "stream",
          "name": "stdout",
          "text": [
            "Размер тестовой выборки: 300\n",
            "Баланс классов: [243  57]\n"
          ]
        }
      ]
    },
    {
      "cell_type": "code",
      "source": [
        "min_precision = 0.7\n",
        "threshold, recall = pr_threshold(y_test_sorted, y_prob_sorted, min_precision)\n",
        "# Когда важно обеспечить минимальный уровень точности предсказаний. Например, в спам-фильтрах, где ложные срабатывания дорого обходятся.\n",
        "print(\"\\n=== pr_threshold ===\")\n",
        "print(f\"Минимальная точность: {min_precision}\")\n",
        "print(f\"Найденный порог: {threshold:.4f}\")\n",
        "print(f\"Recall при этом пороге: {recall:.4f}\")\n",
        "\n",
        "y_pred = (y_prob_sorted >= threshold).astype(int)\n",
        "tp = np.sum((y_pred == 1) & (y_test_sorted == 1))\n",
        "fp = np.sum((y_pred == 1) & (y_test_sorted == 0))\n",
        "actual_precision = tp / (tp + fp) if (tp + fp) > 0 else 0\n",
        "print(f\"Фактическая precision: {actual_precision:.4f}\")"
      ],
      "metadata": {
        "colab": {
          "base_uri": "https://localhost:8080/"
        },
        "id": "pr_H6Tfvp1Me",
        "outputId": "45a0079a-b9cc-47ef-d32f-c058621ce9de"
      },
      "execution_count": 10,
      "outputs": [
        {
          "output_type": "stream",
          "name": "stdout",
          "text": [
            "\n",
            "=== pr_threshold ===\n",
            "Минимальная точность: 0.7\n",
            "Найденный порог: 0.3200\n",
            "Recall при этом пороге: 0.8070\n",
            "Фактическая precision: 0.7077\n"
          ]
        }
      ]
    },
    {
      "cell_type": "code",
      "source": [
        "# Тестируем sr_threshold\n",
        "min_specificity = 0.8  # хотим минимум 80% специфичности\n",
        "threshold, recall = sr_threshold(y_test_sorted, y_prob_sorted, min_specificity)\n",
        "#Когда важно правильно идентифицировать отрицательные классы. Например, в медицинской диагностике, где важно не пропустить здоровых пациентов.\n",
        "print(\"\\n=== sr_threshold ===\")\n",
        "print(f\"Минимальная специфичность: {min_specificity}\")\n",
        "print(f\"Найденный порог: {threshold:.4f}\")\n",
        "print(f\"Recall при этом пороге: {recall:.4f}\")\n",
        "\n",
        "# Проверим вручную\n",
        "y_pred = (y_prob_sorted >= threshold).astype(int)\n",
        "tn = np.sum((y_pred == 0) & (y_test_sorted == 0))\n",
        "fp = np.sum((y_pred == 1) & (y_test_sorted == 0))\n",
        "actual_specificity = tn / (tn + fp) if (tn + fp) > 0 else 0\n",
        "print(f\"Фактическая specificity: {actual_specificity:.4f}\")"
      ],
      "metadata": {
        "colab": {
          "base_uri": "https://localhost:8080/"
        },
        "id": "cfoLa50ktbAl",
        "outputId": "79b08e84-204c-4f9c-e059-83d81288300d"
      },
      "execution_count": 11,
      "outputs": [
        {
          "output_type": "stream",
          "name": "stdout",
          "text": [
            "\n",
            "=== sr_threshold ===\n",
            "Минимальная специфичность: 0.8\n",
            "Найденный порог: 0.2200\n",
            "Recall при этом пороге: 0.9123\n",
            "Фактическая specificity: 0.8107\n"
          ]
        }
      ]
    },
    {
      "cell_type": "code",
      "source": [
        "# Тестируем pr_curve (уменьшим n_bootstrap для скорости)\n",
        "recall, precision, precision_lcb, precision_ucb = pr_curve(\n",
        "    y_test_sorted, y_prob_sorted, conf=0.95, n_bootstrap=1000\n",
        ")\n",
        "#Для анализа компромисса между точностью и полнотой, особенно на несбалансированных данных. Доверительный интервал показывает устойчивость метрик.\n",
        "print(\"\\n=== pr_curve ===\")\n",
        "print(f\"Количество точек на кривой: {len(recall)}\")\n",
        "print(f\"Recall range: [{recall.min():.4f}, {recall.max():.4f}]\")\n",
        "print(f\"Precision range: [{precision.min():.4f}, {precision.max():.4f}]\")\n",
        "\n",
        "# Визуализация\n",
        "import matplotlib.pyplot as plt\n",
        "\n",
        "plt.figure(figsize=(10, 6))\n",
        "plt.plot(recall, precision, 'b-', label='PR Curve')\n",
        "plt.fill_between(recall, precision_lcb, precision_ucb, alpha=0.3, label='95% CI')\n",
        "plt.xlabel('Recall')\n",
        "plt.ylabel('Precision')\n",
        "plt.title('Precision-Recall Curve with Confidence Interval')\n",
        "plt.legend()\n",
        "plt.grid(True)\n",
        "plt.show()"
      ],
      "metadata": {
        "colab": {
          "base_uri": "https://localhost:8080/",
          "height": 651
        },
        "id": "ceLF0r7Gtl3X",
        "outputId": "75deeb75-e21c-4d86-be19-8a4054c517d5"
      },
      "execution_count": 12,
      "outputs": [
        {
          "output_type": "stream",
          "name": "stdout",
          "text": [
            "\n",
            "=== pr_curve ===\n",
            "Количество точек на кривой: 301\n",
            "Recall range: [0.0000, 1.0000]\n",
            "Precision range: [0.1900, 1.0000]\n"
          ]
        },
        {
          "output_type": "display_data",
          "data": {
            "text/plain": [
              "<Figure size 1000x600 with 1 Axes>"
            ],
            "image/png": "[encoded data removed]"
          },
          "metadata": {}
        }
      ]
    },
    {
      "cell_type": "markdown",
      "source": [
        "1. Коротко: модель ранжирует **объекты неплохо, но по мере стремления к полному охвату резко растёт число ложных срабатываний.**\n",
        "\n",
        "Что видно по кривой PR и доверительному интервалу:\n",
        "- При малой полноте (recall до ~0.4–0.5) точность почти 1.0: верхние по скору объекты почти всегда правильные.\n",
        "- По мере роста полноты точность убывает; после recall ~0.7–0.8 она падает ниже ~0.8 и к recall ~1.0 опускается до ~0.25–0.35. Значит, **за высокий охват приходится платить большим числом FP.**\n",
        "- Доверительный интервал узкий при recall ≤ ~0.6 (оценка стабильнее) и заметно расширяется при высоком recall (больше неопределённости).\n",
        "- Практический выбор порога:\n",
        "  - если нужна точность ≥0.9 — придётся ограничиться recall около ~0.5–0.6;\n",
        "  - для компромисса precision ~0.8 — ориентируйтесь на recall ~0.7–0.75;\n",
        "  - при recall >0.9 точность будет около ~0.5, что приемлемо только если критичен максимум найденных положительных.\n",
        "- Для полной оценки полезно знать долю положительного класса (baseline precision); AUPRC должно быть заметно выше этой доли, чтобы говорить о хорошей модели.\n",
        "\n",
        "Итог: **модель очень точна для топ-N предсказаний, но нестабильна и менее точна при попытке охватить почти все положительные примеры.**"
      ],
      "metadata": {
        "id": "EpMN9AtVuz-T"
      }
    },
    {
      "cell_type": "code",
      "source": [
        "recall, specificity, specificity_lcb, specificity_ucb = sr_curve(\n",
        "    y_test_sorted, y_prob_sorted, conf=0.95, n_bootstrap=1000\n",
        ")\n",
        "\n",
        "print(\"\\n=== sr_curve ===\")\n",
        "print(f\"Количество точек на кривой: {len(recall)}\")\n",
        "print(f\"Recall range: [{recall.min():.4f}, {recall.max():.4f}]\")\n",
        "print(f\"Specificity range: [{specificity.min():.4f}, {specificity.max():.4f}]\")\n",
        "\n",
        "plt.figure(figsize=(10, 6))\n",
        "plt.plot(recall, specificity, 'r-', label='Specificity-Recall Curve')\n",
        "plt.fill_between(recall, specificity_lcb, specificity_ucb, alpha=0.3, label='95% CI')\n",
        "plt.xlabel('Recall (Sensitivity)')\n",
        "plt.ylabel('Specificity')\n",
        "plt.title('Specificity-Recall Curve with Confidence Interval')\n",
        "plt.legend()\n",
        "plt.grid(True)\n",
        "plt.show()"
      ],
      "metadata": {
        "colab": {
          "base_uri": "https://localhost:8080/",
          "height": 651
        },
        "id": "mUxeD1G4t4aV",
        "outputId": "b0a5af0d-6e5a-42e6-deaa-492982bb8396"
      },
      "execution_count": 13,
      "outputs": [
        {
          "output_type": "stream",
          "name": "stdout",
          "text": [
            "\n",
            "=== sr_curve ===\n",
            "Количество точек на кривой: 301\n",
            "Recall range: [0.0000, 1.0000]\n",
            "Specificity range: [0.0000, 1.0000]\n"
          ]
        },
        {
          "output_type": "display_data",
          "data": {
            "text/plain": [
              "<Figure size 1000x600 with 1 Axes>"
            ],
            "image/png": "[encoded data removed]"
          },
          "metadata": {}
        }
      ]
    },
    {
      "cell_type": "markdown",
      "source": [
        "«Из всех настоящих положительных объектов какую долю модель действительно нашла» - Sensitivity - TP / (TP + FN)\n",
        "\n",
        "«Из всех настоящих отрицательных объектов какую долю модель правильно отвергла?» - Specificity - TN / (TN + FP)"
      ],
      "metadata": {
        "id": "SgbwaGECwVQi"
      }
    },
    {
      "cell_type": "markdown",
      "source": [
        "**Коротко: модель в целом сильная, но есть выраженный компромисс между чувствительностью и специфичностью.**\n",
        "\n",
        "Что видно по кривой:\n",
        "- При умеренной чувствительности (recall ≈0.5–0.7) специфичность почти максимальная (≈0.97–1.0). То есть мало ложноположительных при заметном числе пропусков.\n",
        "- По мере роста чувствительности выше ≈0.8 специфичность начинает заметно падать: около recall ≈0.9 она уже ~0.8, а при стремлении к 1.0 может опускаться до ~0.4 и ниже. Идеально «и то и другое» недостижимо.\n",
        "- Доверительный интервал узкий при небольших/средних значениях recall (оценки стабильны) и сильно расширяется при высоких (оценки специфичности там менее надёжны).\n",
        "\n",
        "Практический вывод:\n",
        "- Если важнее избежать ложноположительных, держите порог так, чтобы recall был ~0.6–0.7 (специфичность ≈0.97+).\n",
        "- Если приоритет — не пропускать положительные, выбирайте recall ~0.85–0.9, принимая специфичность порядка ~0.8.\n",
        "- Для выбора порога рассчитайте метрику вроде Youden’s J (recall + specificity − 1) или минимизируйте стоимость ошибок с учётом бизнес-цен."
      ],
      "metadata": {
        "id": "0wCZwicpv6X-"
      }
    }
  ]
}