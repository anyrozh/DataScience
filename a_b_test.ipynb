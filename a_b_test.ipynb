{
  "nbformat": 4,
  "nbformat_minor": 0,
  "metadata": {
    "colab": {
      "provenance": []
    },
    "kernelspec": {
      "name": "python3",
      "display_name": "Python 3"
    },
    "language_info": {
      "name": "python"
    }
  },
  "cells": [
    {
      "cell_type": "markdown",
      "source": [
        "**Splitting**"
      ],
      "metadata": {
        "id": "NpN8i5wlaxYc"
      }
    },
    {
      "cell_type": "code",
      "source": [
        "import hashlib\n",
        "from typing import Tuple, List\n",
        "\n",
        "class Experiment:\n",
        "    \"\"\"Experiment class. Contains the logic for assigning users to groups.\"\"\"\n",
        "\n",
        "    def __init__(\n",
        "        self,\n",
        "        experiment_id: int,\n",
        "        groups: Tuple[str, ...] = (\"A\", \"B\"),\n",
        "        group_weights: List[float] = None,\n",
        "    ):\n",
        "        self.experiment_id = experiment_id\n",
        "        self.groups = groups\n",
        "\n",
        "        # Соль для эксперимента — что-то уникальное и определяемое по experiment_id\n",
        "        self.salt = f\"experiment_{experiment_id}\"\n",
        "\n",
        "        # Если веса не заданы — равные веса\n",
        "        num_groups = len(self.groups)\n",
        "        if group_weights is None:\n",
        "            self.group_weights = [1.0 / num_groups] * num_groups\n",
        "        else:\n",
        "            if len(group_weights) != num_groups:\n",
        "                raise ValueError(\"group_weights length must match groups length\")\n",
        "            if any(w < 0 for w in group_weights):\n",
        "                raise ValueError(\"group_weights must be non-negative\")\n",
        "            total = sum(group_weights)\n",
        "            # Нормализуем веса чтобы сумма была 1\n",
        "            self.group_weights = [w / total for w in group_weights]\n",
        "            # Или можно: if abs(sum(self.group_weights) - 1.0) > 1e-8: raise ...\n",
        "\n",
        "        # Предвычислим кумулятивные веса для быстрого поиска группы\n",
        "        cum_sum = 0.0\n",
        "        self.cum_group_weights = []\n",
        "        for w in self.group_weights:\n",
        "            cum_sum += w\n",
        "            self.cum_group_weights.append(cum_sum)\n",
        "        # Последний всегда 1.0\n",
        "\n",
        "    def group(self, click_id: int) -> Tuple[int, str]:\n",
        "        \"\"\"Assigns a click to a group.\"\"\"\n",
        "        # Готовим строку для хэша — соль + click_id (чтобы распределение для каждого эксперимента уникально)\n",
        "        hash_input = f\"{self.salt}_{click_id}\".encode(\"utf-8\")\n",
        "        digest = hashlib.sha256(hash_input).digest()\n",
        "        # Преобразуем первые 8 байт в число\n",
        "        number = int.from_bytes(digest[:8], \"big\")\n",
        "        # [0, 1)\n",
        "        x = number / 2**64\n",
        "\n",
        "        # Ищем в какой диапазон кумулятивных весов попал x — O(N) или bisect если групп много\n",
        "        for idx, upper in enumerate(self.cum_group_weights):\n",
        "            if x < upper:\n",
        "                return idx, self.groups[idx]\n",
        "        # Фолбэк — на всякий случай (теоретически не должен понадобиться)\n",
        "        idx = len(self.groups) - 1\n",
        "        return idx, self.groups[idx]"
      ],
      "metadata": {
        "id": "dcCDTIpR2SVp"
      },
      "execution_count": null,
      "outputs": []
    },
    {
      "cell_type": "code",
      "source": [
        "class Experiment:\n",
        "    \"\"\"Experiment class. Contains the logic for assigning users to groups.\"\"\"\n",
        "\n",
        "    def __init__(\n",
        "        self,\n",
        "        experiment_id: int,\n",
        "        groups: Tuple[str] = (\"A\", \"B\"),\n",
        "        group_weights: List[float] = None,\n",
        "    ):\n",
        "        self.experiment_id = experiment_id\n",
        "        self.groups = groups\n",
        "        self.group_weights = group_weights\n",
        "\n",
        "        # Define the salt for experiment_id.\n",
        "        # The salt should be deterministic and unique for each experiment_id.\n",
        "\n",
        "        #Определите значение для идентификатора experiment_id.\n",
        "        # Значение должно быть детерминированным и уникальным для каждого идентификатора experiment_id.\n",
        "        self.salt = experiment_id\n",
        "        # Define the group weights if they are not provided equaly distributed\n",
        "        # Check input group weights. They must be non-negative and sum to 1.\n",
        "\n",
        "        # # Определите веса групп, если они распределены неравномерно\n",
        "        # Проверьте веса входных групп. Они должны быть неотрицательными и в сумме давать 1.\n",
        "        num_groups = len(self.groups)\n",
        "        if group_weights is None:\n",
        "          self.group_weights = [1.0/num_groups] * num_groups\n",
        "          if group_weights != num_groups:\n",
        "            raise ValueError(\"group_weights length must match groups length\")\n",
        "          if any(w<0 for w in group_weights):\n",
        "            raise ValueError(\"group_weights must be non-negative\")\n",
        "          total = sum(group_weights)\n",
        "\n",
        "        self.group_weights = [w/total for w in group_weights]\n",
        "\n",
        "        cum_sum = 0.0\n",
        "        self.cum_group_weights = []\n",
        "        for w in self.group_weights:\n",
        "          cum_sum += w\n",
        "          self.cum_group_weights.append(cum_sum)\n",
        "\n",
        "    def group(self, click_id: int) -> Tuple[int, str]:\n",
        "        \"\"\"Assigns a click to a group.\n",
        "\n",
        "        Parameters\n",
        "        ----------\n",
        "        click_id: int :\n",
        "            id of the click\n",
        "\n",
        "        Returns\n",
        "        -------\n",
        "        Tuple[int, str] :\n",
        "            group id and group name\n",
        "        \"\"\"\n",
        "\n",
        "        # Assign the click to a group randomly based on the group weights\n",
        "        # Присвоить клик группе случайным образом в зависимости от веса группы\n",
        "        # Вернуть идентификатор группы и название группы\n",
        "        # Return the group id and group name\n",
        "        hash = f\"{self.salt}_{click_id}\".encode(\"utf-8\")\n",
        "        digest = hashlib.sha256(hash_input).digest() #-> Получаем хеш, например (в hex): a1b2c3d4e5f6... (первые 8 байт = a1b2c3d4e5f6g7)\n",
        "        # теперь нам надо преобразовать хэш в число\n",
        "        # Преобразуем первые 8 байт в число\n",
        "        number = int.from_bytes(digest[:8], \"big\")\n",
        "        # [0, 1)\n",
        "        x = number / 2**64\n",
        "\n",
        "        for group_id,upper in enumerate(self.cum_group_weights):\n",
        "          if x < upper:\n",
        "            return group_id,upper\n",
        "\n",
        "        # Фолбэк — на всякий случай (теоретически не должен понадобиться)\n",
        "        group_id = len(self.groups) - 1\n",
        "        return group_id, self.groups[group_id]"
      ],
      "metadata": {
        "id": "24EKvUiv2dCl"
      },
      "execution_count": null,
      "outputs": []
    },
    {
      "cell_type": "markdown",
      "source": [
        "**Statistical test**"
      ],
      "metadata": {
        "id": "OLqPK4yya2OB"
      }
    },
    {
      "cell_type": "markdown",
      "source": [
        "1. CVR (conversion rate) — конверсия совершения действия (action) пользователем\n",
        "\n",
        "2. CPA (cost-per-action) — плата за действие\n",
        "\n",
        "3. CPC (cost-per-click) — плата за клик. Рассчитывается как CVR * CPA\n",
        "\n"
      ],
      "metadata": {
        "id": "ldGPHlj8jUmy"
      }
    },
    {
      "cell_type": "markdown",
      "source": [
        "1. Смоделировать CVR, используя биномиальное распределение. **На выходе мы хотим получить массив 0 и 1 (было совершено действие action или нет)**, где количество единиц появляется с определенной конверсией (вероятностью) conversion_rate.\n",
        "2. Смоделировать CPA из нормального распределения с параметрами (reward_avg — среднее значение и reward_std — стандартное отклонение).\n",
        "3. Рассчитать CPC по формуле выше. - CPC (cost-per-click) — плата за клик. Рассчитывается как CVR * CPA"
      ],
      "metadata": {
        "id": "DmaaK3nggJC7"
      }
    },
    {
      "cell_type": "markdown",
      "source": [
        "Функция принимает на вход размер выборки n_samples, конверсию conversion_rate, среднее значение и стандартное отклонение вознаграждения за action reward_avg и reward_std ."
      ],
      "metadata": {
        "id": "uHS7vt_8hLYc"
      }
    },
    {
      "cell_type": "code",
      "source": [
        "def cpc_sample(\n",
        "    n_samples: int, conversion_rate: float, reward_avg: float, reward_std: float\n",
        ") -> np.ndarray:\n",
        "    \"\"\"Sample data.\"\"\"\n",
        "    cvr = np.random.binomial(1,conversion_rate,size=n_samples)\n",
        "    cpa = np.random.normal(loc=reward_avg, scale=reward_std, size=n_samples)\n",
        "    cpc = cvr * cpa\n",
        "    return cpc"
      ],
      "metadata": {
        "id": "MBMrEg6Ka5H9"
      },
      "execution_count": null,
      "outputs": []
    },
    {
      "cell_type": "markdown",
      "source": [
        "Статистический критерий – конкретный статистический тест, используемый для принятия решения, есть ли различие между группами. Например, **популярный t-тест, который проверяет, отличается ли среднее двух выборок или нет.**\n",
        "\n",
        "1. p-value — это вероятность получить такое же значение статистики или более экстремальное, при условии, что нулевая гипотеза верна."
      ],
      "metadata": {
        "id": "NNQIEZFb0UGV"
      }
    },
    {
      "cell_type": "markdown",
      "source": [
        "На вход функция принимает две выборки и уровень значимости alpha. Возвращает True, если различие между выборками статистически значимо и False, если нет. А также значение p-value."
      ],
      "metadata": {
        "id": "KkA60uh71FGh"
      }
    },
    {
      "cell_type": "code",
      "source": [
        "from typing import Tuple\n",
        "import numpy as np\n",
        "from scipy.stats import ttest_ind\n",
        "\n",
        "def t_test(\n",
        "    cpc_a: np.ndarray, cpc_b: np.ndarray, alpha=0.05\n",
        ") -> Tuple[bool, float]:\n",
        "    \"\"\"Perform t-test for two independent samples.\n",
        "    Returns: (True if difference is significant, p-value)\n",
        "    \"\"\"\n",
        "    stat, p_value = ttest_ind(cpc_a, cpc_b, equal_var=False)\n",
        "    is_significant = bool(p_value < alpha)  # <--- явное приведение типа\n",
        "    return is_significant, float(p_value)   # <--- явное приведение типа"
      ],
      "metadata": {
        "id": "Eb1kvXu53nEt"
      },
      "execution_count": null,
      "outputs": []
    },
    {
      "cell_type": "code",
      "source": [
        "pythonfrom typing import Tuple\n",
        "import numpy as np\n",
        "from scipy.stats import t as t_dist\n",
        "\n",
        "def t_test(cpc_a: np.ndarray, cpc_b: np.ndarray, alpha=0.05\n",
        ") -> Tuple[bool, float]:\n",
        "    \"\"\"t-test реализованный вручную (Уэлча)\"\"\"\n",
        "    n_a, n_b = len(cpc_a), len(cpc_b)\n",
        "    mean_a, mean_b = np.mean(cpc_a), np.mean(cpc_b)\n",
        "    var_a = np.var(cpc_a, ddof=1)  # несмещенная дисперсия\n",
        "    var_b = np.var(cpc_b, ddof=1)\n",
        "\n",
        "    # t-статистика\n",
        "    numerator = mean_a - mean_b\n",
        "    denominator = np.sqrt(var_a / n_a + var_b / n_b)\n",
        "    t_stat = numerator / denominator\n",
        "\n",
        "    # Степени свободы по формуле Уэлча\n",
        "    df_num = (var_a / n_a + var_b / n_b) ** 2\n",
        "    df_den = ((var_a / n_a) * 2) / (n_a - 1) + ((var_b / n_b) * 2) / (n_b - 1)\n",
        "    df = df_num / df_den\n",
        "\n",
        "    # p-value (двусторонний тест)\n",
        "    p_value = 2 * t_dist.sf(np.abs(t_stat), df)\n",
        "    is_significant = p_value < alpha\n",
        "    return is_significant, p_value"
      ],
      "metadata": {
        "id": "bszQdDKT3EIR"
      },
      "execution_count": null,
      "outputs": []
    },
    {
      "cell_type": "markdown",
      "source": [
        "**Simulated A/A-test**"
      ],
      "metadata": {
        "id": "WWc2-y6MP_O1"
      }
    },
    {
      "cell_type": "markdown",
      "source": [
        "Проведем простую симуляцию. Сгенерируем двe CPC выборки с одинаковыми характеристиками и проведем t-тест. Другими словами мы симулируем тест между двумя группами, когда заведомо известно, что между группами нет никаких различий. **Такие тесты, когда между группами заведомо нет различий, называются A/A-тестами.**"
      ],
      "metadata": {
        "id": "_hZB9zrGQMrd"
      }
    },
    {
      "cell_type": "markdown",
      "source": [
        "Дополнительно **к уже известным параметрам функция принимает на вход n_simulations — количество симуляций** (в каждой симуляции генерируем две подобные выборки и сравниваем с помощью t_test. Результат функции — это доля симуляций, где t_test зафиксировал различие."
      ],
      "metadata": {
        "id": "H0KEAYwbQZV6"
      }
    },
    {
      "cell_type": "code",
      "source": [
        "from typing import Tuple\n",
        "import numpy as np\n",
        "from scipy.stats import ttest_ind\n",
        "\n",
        "def cpc_sample(\n",
        "    n_samples: int, conversion_rate: float, reward_avg: float, reward_std: float\n",
        ") -> np.ndarray:\n",
        "    \"\"\"Sample data.\"\"\"\n",
        "    cvr = np.random.binomial(1,conversion_rate,size=n_samples)\n",
        "    cpa = np.random.normal(loc=reward_avg, scale=reward_std, size=n_samples)\n",
        "    cpc = cvr * cpa\n",
        "    return cpc\n",
        "\n",
        "def t_test(\n",
        "    cpc_a: np.ndarray, cpc_b: np.ndarray, alpha=0.05\n",
        ") -> Tuple[bool, float]:\n",
        "    \"\"\"Perform t-test for two independent samples.\n",
        "    Returns: (True if difference is significant, p-value)\n",
        "    \"\"\"\n",
        "    stat, p_value = ttest_ind(cpc_a, cpc_b, equal_var=False)\n",
        "    is_significant = bool(p_value < alpha)  # <--- явное приведение типа\n",
        "    return is_significant, float(p_value)   # <--- явное приведение типа\n",
        "\n",
        "def aa_test(\n",
        "        n_simulations: int,\n",
        "        n_samples: int,\n",
        "        conversion_rate: float,\n",
        "        reward_avg: float,\n",
        "        reward_std: float,\n",
        "        alpha: float = 0.05,\n",
        ") -> float:\n",
        "    \"\"\"Do the A/A test (simulation).\"\"\"\n",
        "\n",
        "    type_1_errors = 0\n",
        "    for _ in range(n_simulations):  # '_' вместо 'i', если не используется\n",
        "        # Generate two cpc samples with the same parameters\n",
        "        cpc_1 = cpc_sample(n_samples, conversion_rate, reward_avg, reward_std)\n",
        "        cpc_2 = cpc_sample(n_samples, conversion_rate, reward_avg, reward_std)\n",
        "\n",
        "        # Check t-test and save type 1 error\n",
        "        is_significant, _ = t_test(cpc_1, cpc_2, alpha=alpha)  # '_' вместо 'p_value', если не используется\n",
        "        if is_significant:\n",
        "            type_1_errors += 1\n",
        "    type_1_errors_rate = type_1_errors / n_simulations\n",
        "\n",
        "    return type_1_errors_rate"
      ],
      "metadata": {
        "id": "M-FjNh2UQAV5"
      },
      "execution_count": 3,
      "outputs": []
    },
    {
      "cell_type": "markdown",
      "source": [
        "Если A/A-тест проведен корректно (выборки независимые, между ними нет явных различий, они достаточного размера), то доля ошибок I рода будет примерно равна уровню значимости α. Такие A/A-тесты полезно проводить на этапе дизайна A/B эксперимента, чтобы оценить, что наш тест спроектирован правильно."
      ],
      "metadata": {
        "id": "hWjEhRTBQmlA"
      }
    },
    {
      "cell_type": "code",
      "source": [
        "import matplotlib.pyplot as plt\n",
        "\n",
        "\n",
        "p_values = aa_test(\n",
        "    n_simulations=1000,\n",
        "    n_samples=100,\n",
        "    conversion_rate=0.1,\n",
        "    reward_avg=10,\n",
        "    reward_std=2\n",
        ")\n",
        "\n",
        "plt.hist(p_values, bins=20, edgecolor='k', density=True)\n",
        "plt.xlabel('p-value')\n",
        "plt.ylabel('Density')\n",
        "plt.title('Распределение p-value в A/A-тесте')\n",
        "plt.show()"
      ],
      "metadata": {
        "colab": {
          "base_uri": "https://localhost:8080/",
          "height": 472
        },
        "id": "Hpx9w6ozWOrh",
        "outputId": "f322df6a-c523-48dd-9366-026069dc780d"
      },
      "execution_count": 5,
      "outputs": [
        {
          "output_type": "display_data",
          "data": {
            "text/plain": [
              "<Figure size 640x480 with 1 Axes>"
            ],
            "image/png": "[encoded data removed]"
          },
          "metadata": {}
        }
      ]
    },
    {
      "cell_type": "markdown",
      "source": [
        "На графике показано распределение p-value в A/A-тесте. Это означает, что обе группы теста идентичны, и мы не ожидаем увидеть значимых отличий между ними.  "
      ],
      "metadata": {
        "id": "2fP06RvnXlrN"
      }
    },
    {
      "cell_type": "markdown",
      "source": [
        "**Simulated A/B-test**"
      ],
      "metadata": {
        "id": "L8P7pTgNd4Ad"
      }
    },
    {
      "cell_type": "markdown",
      "source": [
        "Реализуйте новую функцию ab_test. Функция должна много раз (n_simulations) генерировать две CPC выборки. **Конверсия во второй выборке отличается от конверсии в первой выборке на размер MDE.**"
      ],
      "metadata": {
        "id": "XX-vElXqxaOi"
      }
    },
    {
      "cell_type": "markdown",
      "source": [
        "**MDE (minimal detectable effect)** — **минимальный эффект, который мы можем поймать.** Параметр задается как относительное увеличение. Если мы хотим ловить изменение reward_avg в 10%, то значение параметра указывается в виде MDE = 0.1.\n",
        "\n",
        "По дизайну мы знаем, что наши выборки отличаются. Поэтому каждый раз, когда тест фиксирует отличия между выборками — это правильно. **Когда тест не фиксирует отличий, мы фиксируем ошибку II рода. Функция должна вернуть долю таких ошибок.**\n",
        "\n",
        "Мощностью теста (или чувствительностью) называют вероятность, с которой мы будем фиксировать нужный нам MDE. Мощность рассчитывают как **1 - β**.\n",
        "\n",
        "Чем больше чувствительность теста, тем меньше ошибок будет совершаться и меньшие эффекты можно фиксировать. Плюс потребуется меньше данных и тест можно провести быстрее. В индустрии повышению чувствительности тестов уделяется большое внимание.\n",
        "Потому что:\n",
        "1. чем больше **тестов мы сможем провести за одно и то же время, тем больше гипотез сможем протестировать и больше изменений внедрить, заработать больше денег**;\n",
        "2. чем **более незначительные эффекты мы сможем фиксировать, тем больше денег сможем заработать для компании.** Эффект в 1% на оборотах в миллиарды рублей (или долларов) принесет дополнительных 10 миллионов."
      ],
      "metadata": {
        "id": "wmCKunHh1ipC"
      }
    },
    {
      "cell_type": "code",
      "source": [
        "def ab_test(\n",
        "    n_simulations: int,\n",
        "    n_samples: int,\n",
        "    conversion_rate: float,\n",
        "    mde: float,\n",
        "    reward_avg: float,\n",
        "    reward_std: float,\n",
        "    alpha: float = 0.05,\n",
        ") -> float:\n",
        "    \"\"\"Do the A/B test (simulation).\"\"\"\n",
        "\n",
        "    type_2_errors = 0\n",
        "    conversion_rate_b = conversion_rate * (1 + mde)\n",
        "    for i in range(n_simulations):\n",
        "        # Generate one cpc sample with the given conversion_rate, reward_avg, and reward_std\n",
        "        cpc_1 = cpc_sample(n_samples, conversion_rate, reward_avg, reward_std)\n",
        "        cpc_2 = cpc_sample(n_samples, conversion_rate_b, reward_avg, reward_std)\n",
        "\n",
        "        # Generate another cpc sample with the given conversion_rate * (1 + mde), reward_avg, and reward_std\n",
        "        # Check t-test and save type 2 error\n",
        "        ## Ошибка II рода -- если тест НЕ обнаружил значимых отличий там, где они на самом деле есть\n",
        "        is_significant, _ = t_test(cpc_1, cpc_2, alpha=alpha)  # '_' вместо 'p_value', если не используется\n",
        "        if not is_significant:\n",
        "            type_2_errors += 1\n",
        "    type_2_errors_rate = type_2_errors / n_simulations\n",
        "\n",
        "    return type_2_errors_rate"
      ],
      "metadata": {
        "id": "I7jxpGoid5ev"
      },
      "execution_count": 8,
      "outputs": []
    },
    {
      "cell_type": "code",
      "source": [
        "import matplotlib.pyplot as plt\n",
        "\n",
        "\n",
        "p_values = ab_test(\n",
        "    n_simulations=1000,\n",
        "    n_samples=100,\n",
        "    conversion_rate=0.1,\n",
        "    mde = 0.1,\n",
        "    reward_avg=10,\n",
        "    reward_std=2\n",
        ")\n",
        "\n",
        "plt.hist(p_values, bins=150, edgecolor='k', density=True)\n",
        "plt.xlabel('p-value')\n",
        "plt.ylabel('Density')\n",
        "plt.title('Распределение p-value в A/A-тесте')\n",
        "plt.show()"
      ],
      "metadata": {
        "colab": {
          "base_uri": "https://localhost:8080/",
          "height": 472
        },
        "id": "O9zrmlHD7l4F",
        "outputId": "1ee07ea0-f5f9-4ceb-bd09-9e2731f244fa"
      },
      "execution_count": 9,
      "outputs": [
        {
          "output_type": "display_data",
          "data": {
            "text/plain": [
              "<Figure size 640x480 with 1 Axes>"
            ],
            "image/png": "[encoded data removed]"
          },
          "metadata": {}
        }
      ]
    },
    {
      "cell_type": "code",
      "source": [
        "# Импортируем необходимые библиотеки и функции\n",
        "from typing import Tuple\n",
        "import numpy as np\n",
        "from scipy.stats import ttest_ind\n",
        "\n",
        "# Вставь сюда свои определения функций: cpc_sample, t_test, aa_test, ab_test\n",
        "\n",
        "# Зададим параметры эксперимента\n",
        "n_simulations = 1000\n",
        "n_samples = 1000\n",
        "conversion_rate = 0.1\n",
        "mde = 0.2  # Искомое минимальное детектируемое отличие (например, +10%)\n",
        "reward_avg = 1000\n",
        "reward_std = 10\n",
        "alpha = 0.05   # Уровень значимости\n",
        "\n",
        "# Проведем A/A тест: насколько часто находим различие, когда его НЕТ\n",
        "type_1_error = aa_test(\n",
        "    n_simulations=n_simulations,\n",
        "    n_samples=n_samples,\n",
        "    conversion_rate=conversion_rate,\n",
        "    reward_avg=reward_avg,\n",
        "    reward_std=reward_std,\n",
        "    alpha=alpha\n",
        ")\n",
        "\n",
        "print(f\"A/A тест: Ошибка I рода (False Positive Rate) = {type_1_error:.3f}\")\n",
        "\n",
        "# Проведем A/B тест: насколько часто НЕ находим различие, когда оно ЕСТЬ\n",
        "type_2_error = ab_test(\n",
        "    n_simulations=n_simulations,\n",
        "    n_samples=n_samples,\n",
        "    conversion_rate=conversion_rate,\n",
        "    mde=mde,\n",
        "    reward_avg=reward_avg,\n",
        "    reward_std=reward_std,\n",
        "    alpha=alpha\n",
        ")\n",
        "\n",
        "print(f\"A/B тест: Ошибка II рода (False Negative Rate) = {type_2_error:.3f}\")\n",
        "print(f\"Мощность теста (power) = {1 - type_2_error:.3f}\")\n"
      ],
      "metadata": {
        "colab": {
          "base_uri": "https://localhost:8080/"
        },
        "id": "IeQJEY0JA59x",
        "outputId": "84780540-0662-41b6-fb01-42b3a1f05c6c"
      },
      "execution_count": 12,
      "outputs": [
        {
          "output_type": "stream",
          "name": "stdout",
          "text": [
            "A/A тест: Ошибка I рода (False Positive Rate) = 0.049\n",
            "A/B тест: Ошибка II рода (False Negative Rate) = 0.698\n",
            "Мощность теста (power) = 0.302\n"
          ]
        }
      ]
    },
    {
      "cell_type": "markdown",
      "source": [
        "Мощность теста (statistical power, power of a test) — это вероятность обнаружить реальное различие между группами, если оно действительно существует.\n",
        "\n",
        "Иначе говоря, это вероятность **правильно отвергнуть** нулевую гипотезу, когда альтернатива истинна (найти эффект, если он есть)."
      ],
      "metadata": {
        "id": "UZv4Yi88DhOo"
      }
    },
    {
      "cell_type": "markdown",
      "source": [
        "**Sample size, MDE**"
      ],
      "metadata": {
        "id": "rFQnoynZDucc"
      }
    },
    {
      "cell_type": "markdown",
      "source": [
        "Теперь настало время рассчитать, какой же размер групп нам нужен в предстоящем эксперименте.\n",
        "\n",
        "Один из самых наглядных и универсальных способов определить sample size (или MDE) — это подобрать экспериментально. У нас есть написанный код для симуляций и проведения **A/A и A/B тестов**. Давайте просто будем передавать в эти функции разные значения n_samples или MDE, и выберем такие значения, при которых доля ошибок I и II рода будет в пределах нужных нам уровней.\n",
        "\n",
        "- Ошибка I рода (alpha) — вероятность ошибиться, когда отличие несуществует («нашли эффект, которого нет»).\n",
        "- Ошибка II рода (beta) — вероятность ошибиться, когда отличие есть, но его не нашли.\n",
        "\n",
        "- В обычной практике, alpha (уровень значимости) ставят 0.05 или 0.01 — это максимально допустимая ошибка I рода.\n",
        "- beta (принимаемый риск пропустить эффект) ставят 0.2 (мощность теста 80%), реже 0.1 или 0.05.\n",
        "\n",
        "- В обычной практике, alpha (уровень значимости) ставят 0.05 или 0.01 — это максимально допустимая ошибка I рода.\n",
        "- beta (принимаемый риск пропустить эффект) ставят 0.2 (мощность теста 80%), реже 0.1 или 0.05."
      ],
      "metadata": {
        "id": "AzRiRESTD6d_"
      }
    },
    {
      "cell_type": "code",
      "source": [
        "from typing import List, Tuple\n",
        "import numpy as np\n",
        "from scipy import stats\n",
        "\n",
        "def select_sample_size(\n",
        "    n_samples_grid: List[int],\n",
        "    n_simulations: int,\n",
        "    conversion_rate: float,\n",
        "    mde: float,\n",
        "    reward_avg: float,\n",
        "    reward_std: float,\n",
        "    alpha: float = 0.05,\n",
        "    beta: float = 0.2,\n",
        ") -> Tuple[int, float, float]:\n",
        "    \"\"\"Select sample size.\"\"\"\n",
        "    for n_samples in n_samples_grid:\n",
        "      type_1_error = aa_test(\n",
        "            n_simulations, n_samples, conversion_rate, reward_avg, reward_std, alpha=alpha\n",
        "        )\n",
        "      type_2_error = ab_test(\n",
        "            n_simulations, n_samples, conversion_rate, mde, reward_avg, reward_std, alpha=alpha\n",
        "        )\n",
        "      if (type_1_error <= alpha) and (type_2_error <= beta):\n",
        "        return n_samples, type_1_error, type_2_error\n",
        "\n",
        "    raise RuntimeError(\n",
        "        \"Can't find sample size. \"\n",
        "        f\"Last sample size: {n_samples}, \"\n",
        "        f\"last type 1 error: {type_1_error}, \"\n",
        "        f\"last type 2 error: {type_2_error}\"\n",
        "        \"Make sure that the grid is big enough.\"\n",
        "    )\n",
        "\n",
        "\n",
        "def select_mde(\n",
        "    n_samples: int,\n",
        "    n_simulations: int,\n",
        "    conversion_rate: float,\n",
        "    mde_grid: List[float],\n",
        "    reward_avg: float,\n",
        "    reward_std: float,\n",
        "    alpha: float = 0.05,\n",
        "    beta: float = 0.2,\n",
        ") -> Tuple[float, float]:\n",
        "    \"\"\"Select MDE.\"\"\"\n",
        "    for mde in mde_grid:\n",
        "        type_2_error = ab_test(\n",
        "            n_simulations, n_samples, conversion_rate, mde, reward_avg, reward_std, alpha=alpha\n",
        "        )\n",
        "        if type_2_error <= beta:\n",
        "            return mde, type_2_error\n",
        "\n",
        "    raise RuntimeError(\n",
        "        \"Can't find MDE. \"\n",
        "        f\"Last MDE: {mde}, \"\n",
        "        f\"last type 2 error: {type_2_error}. \"\n",
        "        \"Make sure that the grid is big enough.\"\n",
        "    )"
      ],
      "metadata": {
        "id": "1DIKf7d0Dqwf"
      },
      "execution_count": null,
      "outputs": []
    },
    {
      "cell_type": "markdown",
      "source": [
        "**Формулы для Sample size и MDE**"
      ],
      "metadata": {
        "id": "YYcKhSiDP4Yt"
      }
    },
    {
      "cell_type": "markdown",
      "source": [
        "Если **ваши данные распределены нормально** (напомню, что наше распределение cpc не похоже на нормальное), то для расчета sample size и MDE можно воспользоваться формулами."
      ],
      "metadata": {
        "id": "LwewVXzfZdtX"
      }
    },
    {
      "cell_type": "markdown",
      "source": [
        "**z**— это **функция обратной нормальной функции распределения** (или функция инверсии нормального распределения). Она используется для определения квантиля нормального распределения. Функция инверсии нормального распределения дает нам значение x, для которого соответствующая вероятность равна заданному значению."
      ],
      "metadata": {
        "id": "s7vaSfYoZtE_"
      }
    },
    {
      "cell_type": "code",
      "source": [
        "import numpy as np\n",
        "from scipy import stats\n",
        "from scipy.stats import norm\n",
        "\n",
        "def calculate_sample_size(\n",
        "    reward_avg: float, reward_std: float, mde: float, alpha: float, beta: float\n",
        ") -> int:\n",
        "    \"\"\"Calculate sample size.\n",
        "\n",
        "    Parameters\n",
        "    ----------\n",
        "    reward_avg: float :\n",
        "        average reward\n",
        "    reward_std: float :\n",
        "        standard deviation of reward\n",
        "    mde: float :\n",
        "        minimum detectable effect\n",
        "    alpha: float :\n",
        "        significance level\n",
        "    beta: float :\n",
        "        type 2 error probability\n",
        "\n",
        "    Returns\n",
        "    -------\n",
        "    int :\n",
        "        sample size\n",
        "\n",
        "    \"\"\"\n",
        "    assert mde > 0, \"mde should be greater than 0\"\n",
        "\n",
        "    mde_abs = mde * reward_avg\n",
        "    variance = reward_std ** 2\n",
        "\n",
        "    z_alpha = stats.norm.ppf(1 - alpha / 2)\n",
        "    z_beta = stats.norm.ppf(1 - beta)\n",
        "\n",
        "    numerator = (z_alpha + z_beta) ** 2 * 2 * variance\n",
        "    denominator = mde_abs ** 2\n",
        "\n",
        "    sample_size = int(np.ceil(numerator / denominator))\n",
        "    return sample_size\n",
        "\n",
        "\n",
        "def calculate_mde(\n",
        "    reward_std: float, sample_size: int, alpha: float, beta: float\n",
        ") -> float:\n",
        "    \"\"\"Calculate minimal detectable effect.\"\"\"\n",
        "    assert sample_size > 0, \"sample_size should be greater than 0\"\n",
        "\n",
        "    z_alpha = stats.norm.ppf(1 - alpha / 2)\n",
        "    z_beta = stats.norm.ppf(1 - beta)\n",
        "\n",
        "    mde = (z_alpha + z_beta) * reward_std * np.sqrt(2 / sample_size)\n",
        "    return mde"
      ],
      "metadata": {
        "id": "mH9X8pQmcCFl"
      },
      "execution_count": null,
      "outputs": []
    }
  ]
}