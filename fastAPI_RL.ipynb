{
  "nbformat": 4,
  "nbformat_minor": 0,
  "metadata": {
    "colab": {
      "provenance": []
    },
    "kernelspec": {
      "name": "python3",
      "display_name": "Python 3"
    },
    "language_info": {
      "name": "python"
    }
  },
  "cells": [
    {
      "cell_type": "markdown",
      "source": [
        "\n",
        "\n",
        "*   будем показывать случайные баннеры на любой клик,\n",
        "который придёт. Наша модель состоит из двух стадий: отбор кандидатов (те офферы, на которые пользователь физически может перейти и подписаться, в зависимости от его географии, устройства, источника и т.д.) и выбор оффера (то, что мы будем реализовывать).\n",
        "*   Кандидатная модель уже реализована.В наш ML-сервис поступает сразу клик (click ID) и набор офферов-кандидатов (offer IDs). Мы хотим брать случайный из них. Для тестирования интеграции с бекендом этого более чем достаточно."
      ],
      "metadata": {
        "id": "DhnVTiwcrLPD"
      }
    },
    {
      "cell_type": "code",
      "source": [
        "import numpy as np\n",
        "import uvicorn\n",
        "from fastapi import FastAPI\n",
        "import random\n",
        "\n",
        "app = FastAPI()\n",
        "\n",
        "@app.get(\"/sample/\")\n",
        "def sample(offer_ids: str) -> dict:\n",
        "    \"\"\"Sample random offer\"\"\"\n",
        "    # Parse offer IDs\n",
        "    offers_ids = [int(offer) for offer in offer_ids.split(\",\")]\n",
        "\n",
        "    # Sample random offer ID\n",
        "    offer_id = random.choice(offers_ids)\n",
        "\n",
        "    # Prepare response\n",
        "    response = {\n",
        "        \"offer_id\": offer_id,\n",
        "    }\n",
        "    return response\n",
        "\n",
        "def main() -> None:\n",
        "    \"\"\"Run application\"\"\"\n",
        "    uvicorn.run(\"app:app\", host=\"localhost\", port=8000, reload=False)\n",
        "\n",
        "if __name__ == \"__main__\":\n",
        "    main()\n"
      ],
      "metadata": {
        "id": "bi0Pum3wqpLj"
      },
      "execution_count": null,
      "outputs": []
    },
    {
      "cell_type": "markdown",
      "source": [
        "Давайте теперь реализуем более сложную версию, которая берёт во внимание «обратную связь» (feedback) от пользователя и на каждый клик выдаёт оффер, максимизирующий выручку (жадный алгоритм)."
      ],
      "metadata": {
        "id": "AaHbCzGeqp_2"
      }
    },
    {
      "cell_type": "markdown",
      "source": [
        "**Feedback**"
      ],
      "metadata": {
        "id": "PGwYJ1YDqxxi"
      }
    },
    {
      "cell_type": "markdown",
      "source": [
        "Первая задаёт **PUT-запрос /feedback**. PUT-запрос используется, когда в сервис отправляется какая-то информация извне (в отличие от GET-запроса с предыдущего шага, который **получает какую-то информацию от сервиса**)."
      ],
      "metadata": {
        "id": "JILH8gcyq2Cr"
      }
    },
    {
      "cell_type": "markdown",
      "source": [
        "/feedback отдаёт информацию о том, что случилось с кликом, сколько денег (в центах) мы за него получили. Если конверсии не было, то **reward=0** (напомним, что конверсия — это когда пользователь перешёл на оффер и выполнил нужное действие: скачал приложение, закинул деньги в казино и т.д.)."
      ],
      "metadata": {
        "id": "eusjh74GrXt7"
      }
    },
    {
      "cell_type": "code",
      "source": [
        "from fastapi import FastAPI\n",
        "\n",
        "app = FastAPI()\n",
        "# GLOBAL DICTIONARIES (reset before each run)\n",
        "click_to_offer: Dict[int, int] = dict()      # click_id -> offer_id\n",
        "offer_clicks: Dict[int, int] = dict()        # offer_id -> clicks count\n",
        "offer_rewards: Dict[int, float] = dict()     # offer_id -> total reward\n",
        "offer_conversions: Dict[int, int] = dict()   # offer_id -> conversion count\n",
        "total_clicks: int = 0                        # Global click counter"
      ],
      "metadata": {
        "id": "RY1ISAYK1Lyp"
      },
      "execution_count": null,
      "outputs": []
    },
    {
      "cell_type": "code",
      "source": [
        "@app.put(\"/feedback/\")\n",
        "def feedback(click_id: int, reward: float) -> dict:\n",
        "    \"\"\"Get feedback for particular click\"\"\"\n",
        "    #click_to_offer [click_id по какому_то конкретному offer_id, т.е 101 click перешел в offer]\n",
        "    offer_id = click_to_offer.get(click_id,None)\n",
        "    is_conversion = reward > 0\n",
        "    # Response body consists of click ID\n",
        "    # and accepted click status (True/False)\n",
        "    if offer_id is not None:\n",
        "      if is_conversion:\n",
        "        offer_conversions[offer_id] = offer_conversions.get(offer_id,0)+ 1 #-> converstions count\n",
        "      offer_rewards[offer_id] = offer_rewards.get(offer_id,0.0) # -> converstions sum count\n",
        "    else:\n",
        "      pass\n",
        "\n",
        "    response = {\n",
        "        \"click_id\": click_id,\n",
        "        \"offer_id\": offer_id,\n",
        "        \"is_conversion\": is_conversion,\n",
        "        \"reward\": reward,\n",
        "    }\n",
        "    return response"
      ],
      "metadata": {
        "id": "_hVP_BtGquYE"
      },
      "execution_count": null,
      "outputs": []
    },
    {
      "cell_type": "markdown",
      "source": [
        "**Stats**\n",
        "Ещё один GET-запрос, который вам необходимо реализовать – это /stats с актуальной информацией по выбранному офферу о том, какие были совершены клики, какие получены конверсии, какое среднее число денег мы получаем за клик и т.д."
      ],
      "metadata": {
        "id": "xTeMCXaOr6bT"
      }
    },
    {
      "cell_type": "markdown",
      "source": [
        "*   RPC (revenue per click) – средняя выручка на клик"
      ],
      "metadata": {
        "id": "8tLmSIMyBzbf"
      }
    },
    {
      "cell_type": "code",
      "source": [
        "@app.get(\"/offer_ids/{offer_id}/stats/\")\n",
        "def stats(offer_id: int) -> dict:\n",
        "    \"\"\"Return offer's statistics\"\"\"\n",
        "    clicks = offer_clicks.get(offer_id,0)\n",
        "    converstions = offer_converstions.get(offer_id,0)\n",
        "    reward = offer_rewards(offer_id, 0.0)\n",
        "    cr = (converstions/clicks) if clicks > 0 else 0.0\n",
        "    rpc = (reward / clicks) if clicks > 0 else 0.0\n",
        "\n",
        "    response = {\n",
        "        \"offer_id\": offer_id,\n",
        "        \"clicks\": 10,\n",
        "        \"conversions\": 1,\n",
        "        \"reward\": 4.2,\n",
        "        \"cr\": 0.1,\n",
        "        \"rpc\": 4.2 / 10,\n",
        "    }\n",
        "    return response"
      ],
      "metadata": {
        "id": "qOvwd2yorvqy"
      },
      "execution_count": null,
      "outputs": []
    },
    {
      "cell_type": "markdown",
      "source": [],
      "metadata": {
        "id": "3CKt0ZGPr-rN"
      }
    },
    {
      "cell_type": "markdown",
      "source": [
        "Наконец, вам необходимо переписать /sample так, чтобы:\n",
        "\n",
        "На **первые 100 кликов**, оправленные в сервис, выбирался случайный (для инициализации)\n",
        "На последующие выбирался тот (среди баннеров-кандидатов), который максимизирует **RPC.** Выбирать необходимо среди баннеров-кандидатов, переданных в аргументе offer_ids\n",
        "Если не нашли подходящего оффера, возвращаем самый первый. Например, на вход пришли офферы offers_ids: [45, 67]. Но статистика по обоим офферам нулевая. Тогда выбираем 45"
      ],
      "metadata": {
        "id": "AbJ0FO20v0VN"
      }
    },
    {
      "cell_type": "markdown",
      "source": [
        "- Интернет-магазин хочет больше покупателей. Они обращаются в партнёрку.\n",
        "- Вася знает, как сделать интересную рекламу в соцсетях. Он регистрируется в этой партнёрке.\n",
        "- Вася размещает свою рекламу, люди по ней переходят и покупают в интернет-магазине.\n",
        "- Магазин платит комиссию партнёрке, партнёрка — Васе."
      ],
      "metadata": {
        "id": "PtGgTvHu_O4G"
      }
    },
    {
      "cell_type": "code",
      "source": [
        "from fastapi import FastAPI\n",
        "import numpy as np\n",
        "import uvicorn\n",
        "from typing import Dict\n",
        "app = FastAPI()\n",
        "\n",
        "# Глобальные переменные для хранения статистики\n",
        "clicks_count = {}  # количество кликов по каждому офферу\n",
        "conversions_count = {}  # количество конверсий по каждому офферу\n",
        "total_rewards = {}  # суммарная награда по каждому офферу\n",
        "click_to_offer = {}  # связь между click_id и offer_id\n",
        "total_clicks = 0  # общее количество кликов\n",
        "\n",
        "@app.on_event(\"startup\")\n",
        "def startup_event():\n",
        "    \"\"\"Сброс статистики при старте сервиса\"\"\"\n",
        "    global clicks_count, conversions_count, total_rewards, click_to_offer, total_clicks\n",
        "    clicks_count = {}\n",
        "    conversions_count = {}\n",
        "    total_rewards = {}\n",
        "    click_to_offer = {}\n",
        "    total_clicks = 0\n",
        "\n",
        "@app.put(\"/feedback/\")\n",
        "def feedback(click_id: int, reward: float) -> dict:\n",
        "    \"\"\"Get feedback for particular click\"\"\"\n",
        "    global clicks_count, conversions_count, total_rewards\n",
        "\n",
        "    if click_id not in click_to_offer:\n",
        "        return {\"error\": \"Click ID not found\"}\n",
        "\n",
        "    offer_id = click_to_offer[click_id]\n",
        "    is_conversion = reward > 0\n",
        "\n",
        "    # Обновляем статистику\n",
        "    if is_conversion:\n",
        "        conversions_count[offer_id] = conversions_count.get(offer_id, 0) + 1\n",
        "        total_rewards[offer_id] = total_rewards.get(offer_id, 0) + reward\n",
        "\n",
        "    response = {\n",
        "        \"click_id\": click_id,\n",
        "        \"offer_id\": offer_id,\n",
        "        \"is_conversion\": is_conversion,\n",
        "        \"reward\": reward if is_conversion else 0\n",
        "    }\n",
        "    return response\n",
        "\n",
        "@app.get(\"/offer_ids/{offer_id}/stats/\")\n",
        "def stats(offer_id: int) -> dict:\n",
        "    \"\"\"Return offer's statistics\"\"\"\n",
        "    clicks = clicks_count.get(offer_id, 0)\n",
        "    conversions = conversions_count.get(offer_id, 0)\n",
        "    reward = total_rewards.get(offer_id, 0)\n",
        "\n",
        "    cr = conversions / clicks if clicks > 0 else 0\n",
        "    rpc = reward / clicks if clicks > 0 else 0\n",
        "\n",
        "    response = {\n",
        "        \"offer_id\": offer_id,\n",
        "        \"clicks\": clicks,\n",
        "        \"conversions\": conversions,\n",
        "        \"reward\": reward,\n",
        "        \"cr\": cr,\n",
        "        \"rpc\": rpc,\n",
        "    }\n",
        "    return response\n",
        "\n",
        "@app.get(\"/sample/\")\n",
        "def sample(click_id: int, offer_ids: str) -> dict:\n",
        "    \"\"\"Greedy sampling\"\"\"\n",
        "    global total_clicks, click_to_offer, clicks_count\n",
        "\n",
        "    # Parse offer IDs\n",
        "    offers_ids = [int(offer) for offer in offer_ids.split(\",\")]\n",
        "\n",
        "    # Выбираем оффер\n",
        "    if total_clicks < 100:\n",
        "        # Первые 100 кликов - случайный выбор\n",
        "        import random\n",
        "        offer_id = random.choice(offers_ids)\n",
        "        sampler = \"random\"\n",
        "    else:\n",
        "        # Greedy выбор - оффер с максимальным RPC\n",
        "        max_rpc = -1\n",
        "        offer_id = offers_ids[0]  # дефолтный выбор\n",
        "\n",
        "        for oid in offers_ids:\n",
        "            stats_data = stats(oid)\n",
        "            current_rpc = stats_data[\"rpc\"]\n",
        "\n",
        "            if current_rpc > max_rpc:\n",
        "                max_rpc = current_rpc\n",
        "                offer_id = oid\n",
        "\n",
        "        sampler = \"greedy\"\n",
        "\n",
        "    # Обновляем статистику\n",
        "    clicks_count[offer_id] = clicks_count.get(offer_id, 0) + 1\n",
        "    click_to_offer[click_id] = offer_id\n",
        "    total_clicks += 1\n",
        "\n",
        "    # Prepare response\n",
        "    response = {\n",
        "        \"click_id\": click_id,\n",
        "        \"offer_id\": offer_id,\n",
        "        \"sampler\": sampler,\n",
        "    }\n",
        "    return response"
      ],
      "metadata": {
        "id": "mbAos6V3gJfL"
      },
      "execution_count": null,
      "outputs": []
    },
    {
      "cell_type": "markdown",
      "source": [
        "В предыдущих двух шагах вы поочерёдно реализовали две крайности:\n",
        "\n",
        "1. Exploration: исследование офферов (случайное сэмплирование)\n",
        "2. Exploitation: выбор лучшего оффера (жадное сэмплирование)\n",
        "\n"
      ],
      "metadata": {
        "id": "-UIZTJ7b_fwk"
      }
    },
    {
      "cell_type": "markdown",
      "source": [
        "Мы с вами реализуем простейший алгоритм многоруких бандитов, называемый epsilon-greedy, который совмещает лучшее из двух миров. С вероятностью **1-ε** он будет максимизировать Exploitation, выбирая оффер, максимизирующий выручку, и с вероятностью **ε** – случайный из предложенных. **-многорукие бандиты**"
      ],
      "metadata": {
        "id": "KtSpL06nA7n_"
      }
    },
    {
      "cell_type": "code",
      "source": [
        "from fastapi import FastAPI\n",
        "import numpy as np\n",
        "import uvicorn\n",
        "import random\n",
        "from typing import Dict\n",
        "app = FastAPI()\n",
        "\n",
        "# Глобальные переменные для хранения статистики\n",
        "clicks_count = {}  # количество кликов по каждому офферу\n",
        "conversions_count = {}  # количество конверсий по каждому офферу\n",
        "total_rewards = {}  # суммарная награда по каждому офферу\n",
        "click_to_offer = {}  # связь между click_id и offer_id\n",
        "total_clicks = 0  # общее количество кликов\n",
        "\n",
        "@app.on_event(\"startup\")\n",
        "def startup_event():\n",
        "    \"\"\"Сброс статистики при старте сервиса\"\"\"\n",
        "    global clicks_count, conversions_count, total_rewards, click_to_offer, total_clicks\n",
        "    clicks_count = {}\n",
        "    conversions_count = {}\n",
        "    total_rewards = {}\n",
        "    click_to_offer = {}\n",
        "    total_clicks = 0\n",
        "\n",
        "@app.put(\"/feedback/\")\n",
        "def feedback(click_id: int, reward: float) -> dict:\n",
        "    \"\"\"Get feedback for particular click\"\"\"\n",
        "    global clicks_count, conversions_count, total_rewards\n",
        "\n",
        "    if click_id not in click_to_offer:\n",
        "        return {\"error\": \"Click ID not found\"}\n",
        "\n",
        "    offer_id = click_to_offer[click_id]\n",
        "    is_conversion = reward > 0\n",
        "\n",
        "    # Обновляем статистику\n",
        "    if is_conversion:\n",
        "        conversions_count[offer_id] = conversions_count.get(offer_id, 0) + 1\n",
        "        total_rewards[offer_id] = total_rewards.get(offer_id, 0) + reward\n",
        "\n",
        "    response = {\n",
        "        \"click_id\": click_id,\n",
        "        \"offer_id\": offer_id,\n",
        "        \"is_conversion\": is_conversion,\n",
        "        \"reward\": reward if is_conversion else 0\n",
        "    }\n",
        "    return response\n",
        "\n",
        "@app.get(\"/offer_ids/{offer_id}/stats/\")\n",
        "def stats(offer_id: int) -> dict:\n",
        "    \"\"\"Return offer's statistics\"\"\"\n",
        "    clicks = clicks_count.get(offer_id, 0)\n",
        "    conversions = conversions_count.get(offer_id, 0)\n",
        "    reward = total_rewards.get(offer_id, 0)\n",
        "\n",
        "    cr = conversions / clicks if clicks > 0 else 0\n",
        "    rpc = reward / clicks if clicks > 0 else 0\n",
        "\n",
        "    response = {\n",
        "        \"offer_id\": offer_id,\n",
        "        \"clicks\": clicks,\n",
        "        \"conversions\": conversions,\n",
        "        \"reward\": reward,\n",
        "        \"cr\": cr,\n",
        "        \"rpc\": rpc,\n",
        "    }\n",
        "    return response\n",
        "\n",
        "@app.get(\"/sample/\")\n",
        "def sample(click_id: int, offer_ids: str) -> dict:\n",
        "    \"\"\"Epsilon-greedy sampling (epsilon=0.1)\"\"\"\n",
        "    epsilon = 0.1\n",
        "    global total_clicks, click_to_offer, clicks_count\n",
        "\n",
        "    # Parse offer IDs\n",
        "    offers_ids = [int(offer) for offer in offer_ids.split(\",\")]\n",
        "\n",
        "    # Epsilon-greedy выбор\n",
        "    if random.random() < epsilon:\n",
        "        offer_id = random.choice(offers_ids)\n",
        "        sampler = \"random\"\n",
        "    else:\n",
        "        max_rpc = -float('inf')\n",
        "        offer_id = offers_ids[0]\n",
        "        for oid in offers_ids:\n",
        "            stats_data = stats(oid)\n",
        "            current_rpc = stats_data[\"rpc\"]\n",
        "            if current_rpc > max_rpc:\n",
        "                max_rpc = current_rpc\n",
        "                offer_id = oid\n",
        "        sampler = \"greedy\"\n",
        "\n",
        "    # Обновляем статистику\n",
        "    clicks_count[offer_id] = clicks_count.get(offer_id, 0) + 1\n",
        "    click_to_offer[click_id] = offer_id\n",
        "    total_clicks += 1\n",
        "\n",
        "    response = {\n",
        "        \"click_id\": click_id,\n",
        "        \"offer_id\": offer_id,\n",
        "        \"sampler\": sampler,\n",
        "    }\n",
        "    return response"
      ],
      "metadata": {
        "id": "oK3azgt4BDBJ"
      },
      "execution_count": null,
      "outputs": []
    }
  ]
}