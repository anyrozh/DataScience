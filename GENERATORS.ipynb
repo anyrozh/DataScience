{
  "nbformat": 4,
  "nbformat_minor": 0,
  "metadata": {
    "colab": {
      "provenance": []
    },
    "kernelspec": {
      "name": "python3",
      "display_name": "Python 3"
    },
    "language_info": {
      "name": "python"
    }
  },
  "cells": [
    {
      "cell_type": "markdown",
      "source": [
        "## Итераторы в Python"
      ],
      "metadata": {
        "id": "hXcUAHUS5rz-"
      }
    },
    {
      "cell_type": "markdown",
      "source": [
        "Преимущества итераторов:\n",
        "*   **Эффективное использование памяти:** Итераторы не требуют загрузки всей коллекции в память, что делает их особенно полезными при работе с большими объемами данных.\n",
        "*   **Ленивая обработка данных:** Итераторы обрабатывают элементы по одному, только по мере необходимости, что повышает эффективность.\n",
        "*   **Универсальность:** Итераторы предоставляют единый способ перебора элементов различных коллекций."
      ],
      "metadata": {
        "id": "zDCGc9Ep51v4"
      }
    },
    {
      "cell_type": "code",
      "source": [
        "#пример\n",
        "# Открываем файл\n",
        "with open(\"example.txt\", \"r\") as file:\n",
        "    # Перебираем строки файла\n",
        "    for line in file:\n",
        "        print(line)"
      ],
      "metadata": {
        "colab": {
          "base_uri": "https://localhost:8080/",
          "height": 35
        },
        "id": "O1ARnD5K5uXO",
        "outputId": "becd5829-ac25-4fc1-8839-8d461a48b167"
      },
      "execution_count": null,
      "outputs": [
        {
          "output_type": "execute_result",
          "data": {
            "text/plain": [
              "'\\nwith open(\"example.txt\", \"r\") as file:\\n    # Перебираем строки файла\\n    for line in file:\\n        print(line) \\n'"
            ],
            "application/vnd.google.colaboratory.intrinsic+json": {
              "type": "string"
            }
          },
          "metadata": {},
          "execution_count": 2
        }
      ]
    },
    {
      "cell_type": "markdown",
      "source": [
        "## Генераторы в Python"
      ],
      "metadata": {
        "id": "poIcqn8M7ODb"
      }
    },
    {
      "cell_type": "markdown",
      "source": [
        "**Генераторы** - это простой и мощный инструмент для создания итераторов. Они пишутся как обычные функции, но вместо возвращения значений с помощью return, они используют yield для генерации серии значений. Каждый вызов yield приостанавливает выполнение функции, сохраняя ее состояние, что позволяет возобновить выполнение с того же места при следующем вызове."
      ],
      "metadata": {
        "id": "NT5-pvMg7Wvd"
      }
    },
    {
      "cell_type": "markdown",
      "source": [
        "Генераторы отлично **подходят для больших наборов данных, которые вы не хотите загружать в память целиком. Они также полезны, когда вы создаете поток результатов, которые вы хотите обрабатывать по одному.**"
      ],
      "metadata": {
        "id": "K21cn0bN74R8"
      }
    },
    {
      "cell_type": "code",
      "source": [
        "def read_large_file(file_name):\n",
        "    with open(file_name, 'r') as file:\n",
        "        for line in file:\n",
        "            yield line"
      ],
      "metadata": {
        "id": "K8NJWHhb64A7"
      },
      "execution_count": null,
      "outputs": []
    },
    {
      "cell_type": "markdown",
      "source": [
        "Примечание\n",
        "Многие популярные функции, такие как range(), enumerate(), zip(), map(), filter() и другие являются генераторами."
      ],
      "metadata": {
        "id": "jxEJTar48fE7"
      }
    },
    {
      "cell_type": "markdown",
      "source": [
        "**1. Генератор пользователей**"
      ],
      "metadata": {
        "id": "iiFYbvpK8jqa"
      }
    },
    {
      "cell_type": "markdown",
      "source": [
        "Напишите функцию-генератор username_generator, которая принимает количество записей n и опционально списки имен и фамилий. Если списки не заданы, используются значения по умолчанию. Для этого внутри генератора определите самостоятельно два списка, состоящие из нескольких значений: список имен и список фамилий.\n",
        "\n",
        "Функция создает словарь для каждого пользователя, содержащий поля id, first_name и last_name. ID пользователя должен быть уникальным и соответствовать порядковому номеру генерации. Имена и фамилии выбираются случайным образом из предоставленных или стандартных списков."
      ],
      "metadata": {
        "id": "A9oGn5qF8z0V"
      }
    },
    {
      "cell_type": "code",
      "source": [
        "import random\n",
        "\n",
        "def username_generator(n, first_names=None, last_names=None):\n",
        "    default_first_names = ['Alice', 'Bob', 'Charlie', 'Diana', 'Eve']\n",
        "    default_last_names = ['Smith', 'Johnson', 'Williams', 'Brown', 'Jones']\n",
        "\n",
        "    if not first_names:\n",
        "        first_names = default_first_names\n",
        "    if not last_names:\n",
        "        last_names = default_last_names\n",
        "\n",
        "    for i in range(1, n + 1):\n",
        "        yield {\n",
        "            'id': i,\n",
        "            'first_name': random.choice(first_names),\n",
        "            'last_name': random.choice(last_names)\n",
        "        }"
      ],
      "metadata": {
        "id": "7qv9c6FYEuwb"
      },
      "execution_count": 3,
      "outputs": []
    },
    {
      "cell_type": "code",
      "source": [
        "# Пример использования\n",
        "custom_first_names = [\"Max\", \"Sophia\", \"Liam\"]\n",
        "custom_last_names = [\"Miller\", \"Davis\", \"Garcia\"]\n",
        "for user in username_generator(3, custom_first_names, custom_last_names):\n",
        "    print(user['id'], user['first_name'], user['last_name'])"
      ],
      "metadata": {
        "colab": {
          "base_uri": "https://localhost:8080/"
        },
        "id": "O4MyFi1iEwuf",
        "outputId": "155a16e7-2b50-4e23-eca9-7c775f2316b0"
      },
      "execution_count": 4,
      "outputs": [
        {
          "output_type": "stream",
          "name": "stdout",
          "text": [
            "1 Liam Miller\n",
            "2 Sophia Miller\n",
            "3 Liam Garcia\n"
          ]
        }
      ]
    },
    {
      "cell_type": "markdown",
      "source": [
        "**2.Генератор данных для графика**"
      ],
      "metadata": {
        "id": "SaUCsdvrE-Qp"
      }
    },
    {
      "cell_type": "markdown",
      "source": [
        "Напишите функцию-генератор data_generator, которая генерирует пары (x, y), где x - это последовательно возрастающие целые числа, начиная с 0, а y - случайное число в заданном диапазоне от 0 до 100. Генератор должен принимать один параметр - количество генерируемых пар n."
      ],
      "metadata": {
        "id": "JfB1fSwzG7vv"
      }
    },
    {
      "cell_type": "code",
      "source": [
        "import random\n",
        "\n",
        "\n",
        "def data_generator(n):\n",
        "  for x in range(n):\n",
        "    y = random.randint(0,100)\n",
        "    yield (x,y)"
      ],
      "metadata": {
        "id": "E5QflrhpE9hR"
      },
      "execution_count": 5,
      "outputs": []
    },
    {
      "cell_type": "code",
      "source": [
        "for data in data_generator(3):\n",
        "    print(data)"
      ],
      "metadata": {
        "colab": {
          "base_uri": "https://localhost:8080/"
        },
        "id": "AZTgvjiYHtwj",
        "outputId": "e220958f-0c20-492d-dd22-c71f8331b859"
      },
      "execution_count": 6,
      "outputs": [
        {
          "output_type": "stream",
          "name": "stdout",
          "text": [
            "(0, 40)\n",
            "(1, 47)\n",
            "(2, 15)\n"
          ]
        }
      ]
    },
    {
      "cell_type": "markdown",
      "source": [
        "**3.Генераторные выражения**"
      ],
      "metadata": {
        "id": "oPFF1X2tM3Mc"
      }
    },
    {
      "cell_type": "markdown",
      "source": [
        "List, Set, Dict Comprehensions - это удобный способ описать генераторное выражение и сразу обернуть его в функцию list, set или dict. Другими словами это удобный способ создать коллекцию."
      ],
      "metadata": {
        "id": "FGiN2F58N7ch"
      }
    },
    {
      "cell_type": "code",
      "source": [
        "list_example = [x**2 for x in range(10)]\n",
        "#print(result)\n",
        "\n",
        "# Example of output\n",
        "# [0, 1, 4, 9, 16, 25, 36, 49, 64, 81]\n",
        "\n",
        "\n",
        "set_example = {x**2 for x in range(-2, 5)}\n",
        "#print(result)\n",
        "\n",
        "# Example of output\n",
        "# {25, 9, 0, 1, 4, 16}\n",
        "\n",
        "\n",
        "dict_example = {x:x**2 for x in range(4)}\n",
        "#print(result)\n",
        "\n",
        "# Example of output\n",
        "# {0: 0, 1: 1, 2: 4, 3: 9}"
      ],
      "metadata": {
        "id": "Dk8bGLtmM2rp"
      },
      "execution_count": 8,
      "outputs": []
    },
    {
      "cell_type": "markdown",
      "source": [],
      "metadata": {
        "id": "LroYJMtF8Hyc"
      }
    }
  ]
}